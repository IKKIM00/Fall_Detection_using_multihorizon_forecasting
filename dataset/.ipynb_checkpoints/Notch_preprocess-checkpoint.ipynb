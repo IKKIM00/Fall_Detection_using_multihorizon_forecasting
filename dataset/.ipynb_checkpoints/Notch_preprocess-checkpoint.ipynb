{
 "cells": [
  {
   "cell_type": "code",
   "execution_count": null,
   "metadata": {},
   "outputs": [],
   "source": [
    "import pandas as pd\n",
    "import os\n",
    "from tqdm.notebook import tqdm"
   ]
  },
  {
   "cell_type": "code",
   "execution_count": null,
   "metadata": {},
   "outputs": [],
   "source": [
    "data_dir = 'dataset/Notch_Dataset/'\n",
    "all_file_list = os.listdir(data_dir)\n",
    "file_list = []\n",
    "for file in all_file_list:\n",
    "    if file.endswith('csv'):\n",
    "        file_list.append(file)\n",
    "file_list = sorted(file_list)"
   ]
  },
  {
   "cell_type": "code",
   "execution_count": null,
   "metadata": {},
   "outputs": [],
   "source": [
    "train = pd.DataFrame()\n",
    "for i in range(5):\n",
    "    data = pd.read_csv(data_dir + file_list[i])\n",
    "    data['person_id'] = i+1\n",
    "    train = pd.concat([train, data])\n",
    "    \n",
    "valid = pd.read_csv(data_dir + file_list[5])\n",
    "valid['person_id'] = 6\n",
    "\n",
    "test = pd.read_csv(data_dir + file_list[6])\n",
    "test['person_id'] = 7"
   ]
  },
  {
   "cell_type": "code",
   "execution_count": null,
   "metadata": {},
   "outputs": [],
   "source": [
    "train_obs_scaler = StandardScaler()\n",
    "train_tar_scaler = StandardScaler()\n",
    "\n",
    "test_obs_scaler = StandardScaler()\n",
    "test_tar_scaler = StandardScaler()\n",
    "\n",
    "columns = ['Acc_x [m/s^2]', 'Acc_y [m/s^2]', 'Acc_z [m/s^2]', 'AnyFall', 'person_id']\n",
    "\n",
    "obs_train = train[['Acc_x [m/s^2]', 'Acc_y [m/s^2]', 'Acc_z [m/s^2]']]\n",
    "obs_train = train_obs_scaler.fit_transform(obs_train)\n",
    "tar_train = np.asarray(train['AnyFall'])\n",
    "tar_train = train_tar_scaler.fit_transform(tar_train.reshape(-1, 1))\n",
    "\n",
    "obs_train = pd.DataFrame(obs_train)\n",
    "tar_train = pd.DataFrame(tar_train)\n",
    "transformed_train = pd.concat([obs_train, tar_train], axis=1)\n",
    "transformed_train['per-id'] = train['person_id'].values\n",
    "transformed_train.columns = columns\n",
    "\n",
    "obs_valid = valid[['Acc_x [m/s^2]', 'Acc_y [m/s^2]', 'Acc_z [m/s^2]']]\n",
    "obs_valid = train_obs_scaler.fit_transform(obs_valid)\n",
    "tar_valid = np.asarray(valid['AnyFall'])\n",
    "tar_valid = train_tar_scaler.fit_transform(tar_valid.reshape(-1, 1))\n",
    "\n",
    "obs_valid = pd.DataFrame(obs_valid)\n",
    "tar_valid = pd.DataFrame(tar_valid)\n",
    "transformed_valid = pd.concat([obs_valid, tar_valid], axis=1)\n",
    "transformed_valid['per-id'] = valid['person_id'].values\n",
    "transformed_valid.columns = columns\n",
    "\n",
    "obs_test = test[['Acc_x [m/s^2]', 'Acc_y [m/s^2]', 'Acc_z [m/s^2]']]\n",
    "obs_test = test_obs_scaler.fit_transform(obs_test)\n",
    "tar_test = np.asarray(test['AnyFall'])\n",
    "tar_test = test_tar_scaler.fit_transform(tar_test.reshape(-1, 1))\n",
    "\n",
    "obs_test = pd.DataFrame(obs_test)\n",
    "tar_test = pd.DataFrame(tar_test)\n",
    "transformed_test = pd.concat([obs_test, tar_test], axis=1)\n",
    "transformed_test['per-id'] = test['person_id'].values\n",
    "transformed_test.columns = columns"
   ]
  },
  {
   "cell_type": "code",
   "execution_count": null,
   "metadata": {},
   "outputs": [],
   "source": [
    "transformed_train.to_csv('notch_preprocessed/train.csv')\n",
    "transformed_valid.to_csv('notch_preprocessed/valid.csv')\n",
    "transformed_test.to_csv('notch_preprocessed/test.csv')"
   ]
  },
  {
   "cell_type": "code",
   "execution_count": null,
   "metadata": {},
   "outputs": [],
   "source": []
  },
  {
   "cell_type": "code",
   "execution_count": null,
   "metadata": {},
   "outputs": [],
   "source": []
  },
  {
   "cell_type": "code",
   "execution_count": null,
   "metadata": {},
   "outputs": [],
   "source": []
  },
  {
   "cell_type": "code",
   "execution_count": null,
   "metadata": {},
   "outputs": [],
   "source": []
  }
 ],
 "metadata": {
  "kernelspec": {
   "display_name": "Python 3",
   "language": "python",
   "name": "python3"
  },
  "language_info": {
   "codemirror_mode": {
    "name": "ipython",
    "version": 3
   },
   "file_extension": ".py",
   "mimetype": "text/x-python",
   "name": "python",
   "nbconvert_exporter": "python",
   "pygments_lexer": "ipython3",
   "version": "3.7.6"
  }
 },
 "nbformat": 4,
 "nbformat_minor": 4
}
