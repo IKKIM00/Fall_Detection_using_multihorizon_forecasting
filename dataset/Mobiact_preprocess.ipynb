{
 "cells": [
  {
   "cell_type": "code",
   "execution_count": null,
   "metadata": {},
   "outputs": [],
   "source": [
    "import pandas as pd\n",
    "import os\n",
    "from tqdm.notebook import tqdm"
   ]
  },
  {
   "cell_type": "code",
   "execution_count": null,
   "metadata": {},
   "outputs": [],
   "source": [
    "file = open('MobiAct_Dataset_v2.0/Readme.txt', 'r', encoding='latin1')\n",
    "strings = file.readlines()\n",
    "file.close()\n",
    "for s in strings:\n",
    "    print(s)"
   ]
  },
  {
   "cell_type": "code",
   "execution_count": null,
   "metadata": {},
   "outputs": [],
   "source": [
    "person_list = []\n",
    "for s in strings:\n",
    "    if 'sub' in s and '|' in s:\n",
    "        temp = s.split('|')\n",
    "        temp = [x.strip() for x in temp]\n",
    "        if len(temp) == 9:\n",
    "            person_list.append(temp[3:-1])\n",
    "\n",
    "activity_list = []\n",
    "for s in strings:\n",
    "    if '|' in s:\n",
    "        temp = s.split('|')\n",
    "        temp = [x.strip() for x in temp]\n",
    "        if len(temp) == 8:\n",
    "            activity_list.append(temp[1:-1])"
   ]
  },
  {
   "cell_type": "code",
   "execution_count": null,
   "metadata": {},
   "outputs": [],
   "source": [
    "falls = ['FOL', 'FKL', 'BSC', 'SDL']\n",
    "\n",
    "columns = ['name', 'age', 'height', 'weight', 'gender']\n",
    "person_info = pd.DataFrame(person_list, columns=columns)\n",
    "\n",
    "activity_info = pd.DataFrame(activity_list)\n",
    "activity_info.columns = activity_info.iloc[0]\n",
    "activity_info = activity_info.drop(0)\n",
    "activity_info = activity_info.drop(13)\n",
    "activity_info = activity_info.reset_index(drop=True)\n",
    "# print(activity_info.columns)\n",
    "index = activity_info['No.']\n",
    "activity_info = activity_info.drop(['No.'], axis=1)\n",
    "activity_info.index = index\n",
    "activity_info['label_encoded'] = list(range(len(activity_info)))"
   ]
  },
  {
   "cell_type": "code",
   "execution_count": null,
   "metadata": {},
   "outputs": [],
   "source": [
    "data_dir = 'MobiAct_Dataset_v2.0/Annotated Data/'\n",
    "act_list = os.listdir(data_dir)\n",
    "print(act_list)"
   ]
  },
  {
   "cell_type": "code",
   "execution_count": null,
   "metadata": {},
   "outputs": [],
   "source": [
    "train = set()\n",
    "valid = set()\n",
    "test = set()\n",
    "for act in tqdm(act_list):\n",
    "    file_list = os.listdir(data_dir + act + '/')\n",
    "    for file in file_list:\n",
    "        data = pd.read_csv(data_dir + act + '/' +file)\n",
    "        file_names = file.split('_')\n",
    "        person_num = int(file_names[1])\n",
    "        person_id = person_num - 1\n",
    "        trial_num = file_names[2]\n",
    "        \n",
    "        if person_num <= 50:\n",
    "            train.add(person_num)\n",
    "        elif person_num > 50 and person_num <= 53:\n",
    "            valid.add(person_num)\n",
    "        else:\n",
    "            test.add(person_num)"
   ]
  },
  {
   "cell_type": "code",
   "execution_count": null,
   "metadata": {},
   "outputs": [],
   "source": [
    "train.to_csv('mobiact_preprocessed/train.csv')\n",
    "valid.to_csv('mobiact_preprocessed/valid.csv')\n",
    "test.to_csv('mobiact_preprocessed/test.csv')"
   ]
  },
  {
   "cell_type": "code",
   "execution_count": null,
   "metadata": {},
   "outputs": [],
   "source": []
  }
 ],
 "metadata": {
  "kernelspec": {
   "display_name": "Python 3",
   "language": "python",
   "name": "python3"
  },
  "language_info": {
   "codemirror_mode": {
    "name": "ipython",
    "version": 3
   },
   "file_extension": ".py",
   "mimetype": "text/x-python",
   "name": "python",
   "nbconvert_exporter": "python",
   "pygments_lexer": "ipython3",
   "version": "3.7.6"
  }
 },
 "nbformat": 4,
 "nbformat_minor": 4
}
