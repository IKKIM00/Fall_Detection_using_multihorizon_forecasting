{
 "cells": [
  {
   "cell_type": "code",
   "execution_count": null,
   "metadata": {},
   "outputs": [],
   "source": [
    "import pandas as pd\n",
    "import os\n",
    "from tqdm.notebook import tqdm"
   ]
  },
  {
   "cell_type": "code",
   "execution_count": null,
   "metadata": {},
   "outputs": [],
   "source": [
    "data_dir = 'dataset/SmartFall_Dataset/'\n",
    "\n",
    "train = pd.read_csv(data_dir + 'SmartFall Training.csv')\n",
    "columns = train.columns\n",
    "train_obs_scaler = StandardScaler()\n",
    "train_tar_scaler = StandardScaler()\n",
    "\n",
    "test_obs_scaler = StandardScaler()\n",
    "test_tar_scaler = StandardScaler()\n",
    "\n",
    "train = pd.read_csv(data_dir + 'SmartFall Training.csv')\n",
    "# train = train.astype('float32')\n",
    "columns = train.columns\n",
    "\n",
    "obs_train = train[[' ms_accelerometer_x', ' ms_accelerometer_y', ' ms_accelerometer_z']]\n",
    "obs_train = train_obs_scaler.fit_transform(obs_train)\n",
    "tar_train = np.asarray(train['outcome'])\n",
    "tar_train = train_tar_scaler.fit_transform(tar_train.reshape(-1, 1))\n",
    "\n",
    "obs_train = pd.DataFrame(obs_train)\n",
    "tar_train = pd.DataFrame(tar_train)\n",
    "transformed_train = pd.concat([obs_train, tar_train], axis=1)\n",
    "transformed_train.columns = columns\n",
    "transformed_train['per-id'] = 0\n",
    "\n",
    "test = pd.read_csv(data_dir + 'SmartFall Testing.csv')\n",
    "# test = test.astype('float32')\n",
    "obs_test = test[[' ms_accelerometer_x', ' ms_accelerometer_y', ' ms_accelerometer_z']]\n",
    "obs_test = test_obs_scaler.fit_transform(obs_test)\n",
    "\n",
    "tar_test = np.asarray(test['outcome'])\n",
    "tar_test = test_tar_scaler.fit_transform(tar_test.reshape(-1, 1))\n",
    "\n",
    "obs_test = pd.DataFrame(obs_test)\n",
    "tar_test = pd.DataFrame(tar_test)\n",
    "transformed_test = pd.concat([obs_test, tar_test], axis=1)\n",
    "transformed_test.columns = columns\n",
    "transformed_test['per-id'] = 0"
   ]
  },
  {
   "cell_type": "code",
   "execution_count": null,
   "metadata": {},
   "outputs": [],
   "source": [
    "transformed_train.to_csv('smartfall_preprocessed/train.csv')\n",
    "transformed_test.to_csv('smartfall_preprocessed/test.csv')"
   ]
  },
  {
   "cell_type": "code",
   "execution_count": null,
   "metadata": {},
   "outputs": [],
   "source": []
  },
  {
   "cell_type": "code",
   "execution_count": null,
   "metadata": {},
   "outputs": [],
   "source": []
  },
  {
   "cell_type": "code",
   "execution_count": null,
   "metadata": {},
   "outputs": [],
   "source": []
  }
 ],
 "metadata": {
  "kernelspec": {
   "display_name": "Python 3",
   "language": "python",
   "name": "python3"
  },
  "language_info": {
   "codemirror_mode": {
    "name": "ipython",
    "version": 3
   },
   "file_extension": ".py",
   "mimetype": "text/x-python",
   "name": "python",
   "nbconvert_exporter": "python",
   "pygments_lexer": "ipython3",
   "version": "3.7.6"
  }
 },
 "nbformat": 4,
 "nbformat_minor": 4
}
