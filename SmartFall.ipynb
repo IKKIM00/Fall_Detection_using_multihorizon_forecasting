{
 "cells": [
  {
   "cell_type": "code",
   "execution_count": 1,
   "id": "51017c5f",
   "metadata": {
    "ExecuteTime": {
     "end_time": "2021-06-01T07:36:44.782850Z",
     "start_time": "2021-06-01T07:36:38.308783Z"
    }
   },
   "outputs": [],
   "source": [
    "import pandas as pd\n",
    "import numpy as np\n",
    "import os\n",
    "from datetime import datetime\n",
    "from matplotlib import pyplot as plt\n",
    "\n",
    "from sklearn.model_selection import train_test_split\n",
    "from sklearn.metrics import confusion_matrix\n",
    "from sklearn.metrics import accuracy_score, f1_score, recall_score, precision_score\n",
    "from sklearn.preprocessing import StandardScaler, LabelEncoder\n",
    "\n",
    "import torch\n",
    "import torch.nn as nn\n",
    "from torch.nn import functional as F\n",
    "from torch.utils.tensorboard import SummaryWriter\n",
    "from torch.utils.data import DataLoader, random_split, TensorDataset\n",
    "\n",
    "%matplotlib inline"
   ]
  },
  {
   "cell_type": "code",
   "execution_count": 2,
   "id": "083d49e4",
   "metadata": {
    "ExecuteTime": {
     "end_time": "2021-06-01T07:36:44.825783Z",
     "start_time": "2021-06-01T07:36:44.785524Z"
    }
   },
   "outputs": [
    {
     "data": {
      "text/plain": [
       "'cuda:0'"
      ]
     },
     "execution_count": 2,
     "metadata": {},
     "output_type": "execute_result"
    }
   ],
   "source": [
    "np.random.seed(42)\n",
    "device = 'cuda:0' if torch.cuda.is_available() else 'cpu'\n",
    "device"
   ]
  },
  {
   "cell_type": "code",
   "execution_count": 3,
   "id": "a589db9b",
   "metadata": {
    "ExecuteTime": {
     "end_time": "2021-06-01T07:36:44.837386Z",
     "start_time": "2021-06-01T07:36:44.828508Z"
    }
   },
   "outputs": [],
   "source": [
    "data_dir = 'dataset/SmartFall_Dataset/'"
   ]
  },
  {
   "cell_type": "code",
   "execution_count": 4,
   "id": "d20e056e",
   "metadata": {
    "ExecuteTime": {
     "end_time": "2021-06-01T07:36:45.074903Z",
     "start_time": "2021-06-01T07:36:44.840171Z"
    }
   },
   "outputs": [
    {
     "data": {
      "text/html": [
       "<div>\n",
       "<style scoped>\n",
       "    .dataframe tbody tr th:only-of-type {\n",
       "        vertical-align: middle;\n",
       "    }\n",
       "\n",
       "    .dataframe tbody tr th {\n",
       "        vertical-align: top;\n",
       "    }\n",
       "\n",
       "    .dataframe thead th {\n",
       "        text-align: right;\n",
       "    }\n",
       "</style>\n",
       "<table border=\"1\" class=\"dataframe\">\n",
       "  <thead>\n",
       "    <tr style=\"text-align: right;\">\n",
       "      <th></th>\n",
       "      <th>ms_accelerometer_x</th>\n",
       "      <th>ms_accelerometer_y</th>\n",
       "      <th>ms_accelerometer_z</th>\n",
       "      <th>outcome</th>\n",
       "    </tr>\n",
       "  </thead>\n",
       "  <tbody>\n",
       "    <tr>\n",
       "      <th>0</th>\n",
       "      <td>1.058105</td>\n",
       "      <td>0.096436</td>\n",
       "      <td>0.113037</td>\n",
       "      <td>0</td>\n",
       "    </tr>\n",
       "    <tr>\n",
       "      <th>1</th>\n",
       "      <td>0.718506</td>\n",
       "      <td>0.233887</td>\n",
       "      <td>0.220703</td>\n",
       "      <td>0</td>\n",
       "    </tr>\n",
       "    <tr>\n",
       "      <th>2</th>\n",
       "      <td>0.718506</td>\n",
       "      <td>0.233887</td>\n",
       "      <td>0.220703</td>\n",
       "      <td>0</td>\n",
       "    </tr>\n",
       "    <tr>\n",
       "      <th>3</th>\n",
       "      <td>0.960205</td>\n",
       "      <td>0.190430</td>\n",
       "      <td>0.051270</td>\n",
       "      <td>0</td>\n",
       "    </tr>\n",
       "    <tr>\n",
       "      <th>4</th>\n",
       "      <td>0.960205</td>\n",
       "      <td>0.190430</td>\n",
       "      <td>0.051270</td>\n",
       "      <td>0</td>\n",
       "    </tr>\n",
       "  </tbody>\n",
       "</table>\n",
       "</div>"
      ],
      "text/plain": [
       "    ms_accelerometer_x   ms_accelerometer_y   ms_accelerometer_z  outcome\n",
       "0             1.058105             0.096436             0.113037        0\n",
       "1             0.718506             0.233887             0.220703        0\n",
       "2             0.718506             0.233887             0.220703        0\n",
       "3             0.960205             0.190430             0.051270        0\n",
       "4             0.960205             0.190430             0.051270        0"
      ]
     },
     "execution_count": 4,
     "metadata": {},
     "output_type": "execute_result"
    }
   ],
   "source": [
    "train = pd.read_csv(data_dir + 'SmartFall Training.csv')\n",
    "columns = train.columns\n",
    "train.head()"
   ]
  },
  {
   "cell_type": "code",
   "execution_count": 5,
   "id": "7f6ec3dc",
   "metadata": {
    "ExecuteTime": {
     "end_time": "2021-06-01T07:36:45.281913Z",
     "start_time": "2021-06-01T07:36:45.079221Z"
    }
   },
   "outputs": [],
   "source": [
    "train_obs_scaler = StandardScaler()\n",
    "train_tar_scaler = StandardScaler()\n",
    "\n",
    "test_obs_scaler = StandardScaler()\n",
    "test_tar_scaler = StandardScaler()\n",
    "\n",
    "train = pd.read_csv(data_dir + 'SmartFall Training.csv')\n",
    "# train = train.astype('float32')\n",
    "columns = train.columns\n",
    "\n",
    "obs_train = train[[' ms_accelerometer_x', ' ms_accelerometer_y', ' ms_accelerometer_z']]\n",
    "obs_train = train_obs_scaler.fit_transform(obs_train)\n",
    "tar_train = np.asarray(train['outcome'])\n",
    "tar_train = train_tar_scaler.fit_transform(tar_train.reshape(-1, 1))\n",
    "\n",
    "obs_train = pd.DataFrame(obs_train)\n",
    "tar_train = pd.DataFrame(tar_train)\n",
    "transformed_train = pd.concat([obs_train, tar_train], axis=1)\n",
    "transformed_train.columns = columns\n",
    "transformed_train['per-id'] = 0\n",
    "\n",
    "test = pd.read_csv(data_dir + 'SmartFall Testing.csv')\n",
    "# test = test.astype('float32')\n",
    "obs_test = test[[' ms_accelerometer_x', ' ms_accelerometer_y', ' ms_accelerometer_z']]\n",
    "obs_test = test_obs_scaler.fit_transform(obs_test)\n",
    "\n",
    "tar_test = np.asarray(test['outcome'])\n",
    "tar_test = test_tar_scaler.fit_transform(tar_test.reshape(-1, 1))\n",
    "\n",
    "obs_test = pd.DataFrame(obs_test)\n",
    "tar_test = pd.DataFrame(tar_test)\n",
    "transformed_test = pd.concat([obs_test, tar_test], axis=1)\n",
    "transformed_test.columns = columns\n",
    "transformed_test['per-id'] = 0"
   ]
  },
  {
   "cell_type": "code",
   "execution_count": 6,
   "id": "4ca2063b",
   "metadata": {
    "ExecuteTime": {
     "end_time": "2021-06-01T07:36:45.298189Z",
     "start_time": "2021-06-01T07:36:45.284634Z"
    }
   },
   "outputs": [
    {
     "name": "stdout",
     "output_type": "stream",
     "text": [
      "Index([' ms_accelerometer_x', ' ms_accelerometer_y', ' ms_accelerometer_z',\n",
      "       'outcome', 'per-id'],\n",
      "      dtype='object')\n"
     ]
    },
    {
     "data": {
      "text/html": [
       "<div>\n",
       "<style scoped>\n",
       "    .dataframe tbody tr th:only-of-type {\n",
       "        vertical-align: middle;\n",
       "    }\n",
       "\n",
       "    .dataframe tbody tr th {\n",
       "        vertical-align: top;\n",
       "    }\n",
       "\n",
       "    .dataframe thead th {\n",
       "        text-align: right;\n",
       "    }\n",
       "</style>\n",
       "<table border=\"1\" class=\"dataframe\">\n",
       "  <thead>\n",
       "    <tr style=\"text-align: right;\">\n",
       "      <th></th>\n",
       "      <th>ms_accelerometer_x</th>\n",
       "      <th>ms_accelerometer_y</th>\n",
       "      <th>ms_accelerometer_z</th>\n",
       "      <th>outcome</th>\n",
       "      <th>per-id</th>\n",
       "    </tr>\n",
       "  </thead>\n",
       "  <tbody>\n",
       "    <tr>\n",
       "      <th>0</th>\n",
       "      <td>0.621497</td>\n",
       "      <td>-0.359438</td>\n",
       "      <td>-0.225087</td>\n",
       "      <td>-0.310845</td>\n",
       "      <td>0</td>\n",
       "    </tr>\n",
       "    <tr>\n",
       "      <th>1</th>\n",
       "      <td>0.116746</td>\n",
       "      <td>-0.128835</td>\n",
       "      <td>-0.029357</td>\n",
       "      <td>-0.310845</td>\n",
       "      <td>0</td>\n",
       "    </tr>\n",
       "    <tr>\n",
       "      <th>2</th>\n",
       "      <td>0.116746</td>\n",
       "      <td>-0.128835</td>\n",
       "      <td>-0.029357</td>\n",
       "      <td>-0.310845</td>\n",
       "      <td>0</td>\n",
       "    </tr>\n",
       "    <tr>\n",
       "      <th>3</th>\n",
       "      <td>0.475986</td>\n",
       "      <td>-0.201743</td>\n",
       "      <td>-0.337377</td>\n",
       "      <td>-0.310845</td>\n",
       "      <td>0</td>\n",
       "    </tr>\n",
       "    <tr>\n",
       "      <th>4</th>\n",
       "      <td>0.475986</td>\n",
       "      <td>-0.201743</td>\n",
       "      <td>-0.337377</td>\n",
       "      <td>-0.310845</td>\n",
       "      <td>0</td>\n",
       "    </tr>\n",
       "  </tbody>\n",
       "</table>\n",
       "</div>"
      ],
      "text/plain": [
       "    ms_accelerometer_x   ms_accelerometer_y   ms_accelerometer_z   outcome  \\\n",
       "0             0.621497            -0.359438            -0.225087 -0.310845   \n",
       "1             0.116746            -0.128835            -0.029357 -0.310845   \n",
       "2             0.116746            -0.128835            -0.029357 -0.310845   \n",
       "3             0.475986            -0.201743            -0.337377 -0.310845   \n",
       "4             0.475986            -0.201743            -0.337377 -0.310845   \n",
       "\n",
       "   per-id  \n",
       "0       0  \n",
       "1       0  \n",
       "2       0  \n",
       "3       0  \n",
       "4       0  "
      ]
     },
     "execution_count": 6,
     "metadata": {},
     "output_type": "execute_result"
    }
   ],
   "source": [
    "print(transformed_train.columns)\n",
    "columns = transformed_train.columns\n",
    "transformed_train.head()"
   ]
  },
  {
   "cell_type": "code",
   "execution_count": 7,
   "id": "c06151b4",
   "metadata": {
    "ExecuteTime": {
     "end_time": "2021-06-01T07:36:45.312073Z",
     "start_time": "2021-06-01T07:36:45.300178Z"
    },
    "scrolled": true
   },
   "outputs": [
    {
     "data": {
      "text/html": [
       "<div>\n",
       "<style scoped>\n",
       "    .dataframe tbody tr th:only-of-type {\n",
       "        vertical-align: middle;\n",
       "    }\n",
       "\n",
       "    .dataframe tbody tr th {\n",
       "        vertical-align: top;\n",
       "    }\n",
       "\n",
       "    .dataframe thead th {\n",
       "        text-align: right;\n",
       "    }\n",
       "</style>\n",
       "<table border=\"1\" class=\"dataframe\">\n",
       "  <thead>\n",
       "    <tr style=\"text-align: right;\">\n",
       "      <th></th>\n",
       "      <th>ms_accelerometer_x</th>\n",
       "      <th>ms_accelerometer_y</th>\n",
       "      <th>ms_accelerometer_z</th>\n",
       "      <th>outcome</th>\n",
       "      <th>per-id</th>\n",
       "    </tr>\n",
       "  </thead>\n",
       "  <tbody>\n",
       "    <tr>\n",
       "      <th>0</th>\n",
       "      <td>0.663169</td>\n",
       "      <td>-0.154955</td>\n",
       "      <td>-0.625905</td>\n",
       "      <td>-0.241723</td>\n",
       "      <td>0</td>\n",
       "    </tr>\n",
       "    <tr>\n",
       "      <th>1</th>\n",
       "      <td>0.648766</td>\n",
       "      <td>-0.167871</td>\n",
       "      <td>-0.632855</td>\n",
       "      <td>-0.241723</td>\n",
       "      <td>0</td>\n",
       "    </tr>\n",
       "    <tr>\n",
       "      <th>2</th>\n",
       "      <td>0.648766</td>\n",
       "      <td>-0.167871</td>\n",
       "      <td>-0.632855</td>\n",
       "      <td>-0.241723</td>\n",
       "      <td>0</td>\n",
       "    </tr>\n",
       "    <tr>\n",
       "      <th>3</th>\n",
       "      <td>0.597974</td>\n",
       "      <td>-0.187649</td>\n",
       "      <td>-0.628884</td>\n",
       "      <td>-0.241723</td>\n",
       "      <td>0</td>\n",
       "    </tr>\n",
       "    <tr>\n",
       "      <th>4</th>\n",
       "      <td>0.387604</td>\n",
       "      <td>-0.153744</td>\n",
       "      <td>-0.554921</td>\n",
       "      <td>-0.241723</td>\n",
       "      <td>0</td>\n",
       "    </tr>\n",
       "  </tbody>\n",
       "</table>\n",
       "</div>"
      ],
      "text/plain": [
       "    ms_accelerometer_x   ms_accelerometer_y   ms_accelerometer_z   outcome  \\\n",
       "0             0.663169            -0.154955            -0.625905 -0.241723   \n",
       "1             0.648766            -0.167871            -0.632855 -0.241723   \n",
       "2             0.648766            -0.167871            -0.632855 -0.241723   \n",
       "3             0.597974            -0.187649            -0.628884 -0.241723   \n",
       "4             0.387604            -0.153744            -0.554921 -0.241723   \n",
       "\n",
       "   per-id  \n",
       "0       0  \n",
       "1       0  \n",
       "2       0  \n",
       "3       0  \n",
       "4       0  "
      ]
     },
     "execution_count": 7,
     "metadata": {},
     "output_type": "execute_result"
    }
   ],
   "source": [
    "transformed_test.head()"
   ]
  },
  {
   "cell_type": "markdown",
   "id": "98a4a408",
   "metadata": {},
   "source": [
    "# Data processing"
   ]
  },
  {
   "cell_type": "code",
   "execution_count": 8,
   "id": "73769e38",
   "metadata": {
    "ExecuteTime": {
     "end_time": "2021-06-01T07:36:45.331095Z",
     "start_time": "2021-06-01T07:36:45.314884Z"
    }
   },
   "outputs": [],
   "source": [
    "train, valid = train_test_split(transformed_train, test_size=0.25, shuffle=False, random_state=0)"
   ]
  },
  {
   "cell_type": "code",
   "execution_count": 9,
   "id": "e56e6201",
   "metadata": {
    "ExecuteTime": {
     "end_time": "2021-06-01T07:36:45.961763Z",
     "start_time": "2021-06-01T07:36:45.947486Z"
    }
   },
   "outputs": [],
   "source": [
    "def dataProcessing(data):\n",
    "    X_data, y_data = list(), list()\n",
    "    for i in range(32, len(data) - 32):\n",
    "        acc_x = data[' ms_accelerometer_x'][i-32: i]\n",
    "        acc_y = data[' ms_accelerometer_y'][i-32: i]\n",
    "        acc_z = data[' ms_accelerometer_z'][i-32: i]\n",
    "        X_data.append([acc_x.values, acc_y.values, acc_z.values])\n",
    "        \n",
    "        outcome = data['outcome'][i: i+32]\n",
    "        y_data.append([outcome.values])\n",
    "    return X_data, y_data"
   ]
  },
  {
   "cell_type": "code",
   "execution_count": 10,
   "id": "7af19295",
   "metadata": {
    "ExecuteTime": {
     "end_time": "2021-06-01T07:37:18.825892Z",
     "start_time": "2021-06-01T07:36:47.339993Z"
    }
   },
   "outputs": [],
   "source": [
    "X_train, y_train = dataProcessing(train)\n",
    "X_valid, y_valid = dataProcessing(valid)\n",
    "X_test, y_test = dataProcessing(transformed_test)"
   ]
  },
  {
   "cell_type": "code",
   "execution_count": 11,
   "id": "e63152a8",
   "metadata": {
    "ExecuteTime": {
     "end_time": "2021-06-01T07:37:22.169734Z",
     "start_time": "2021-06-01T07:37:18.828725Z"
    }
   },
   "outputs": [],
   "source": [
    "batch_size = 64\n",
    "\n",
    "train_data = TensorDataset(torch.Tensor(X_train), torch.Tensor(y_train))\n",
    "train_loader = DataLoader(train_data, shuffle=False, batch_size=batch_size)\n",
    "\n",
    "valid_data = TensorDataset(torch.Tensor(X_valid), torch.Tensor(y_valid))\n",
    "valid_loader = DataLoader(valid_data, shuffle=False, batch_size=batch_size)\n",
    "\n",
    "test_data = TensorDataset(torch.Tensor(X_test), torch.Tensor(y_test))\n",
    "test_loader = DataLoader(test_data, shuffle=False, batch_size=1)"
   ]
  },
  {
   "cell_type": "markdown",
   "id": "8422cb44",
   "metadata": {},
   "source": [
    "# Model"
   ]
  },
  {
   "cell_type": "code",
   "execution_count": 12,
   "id": "cd83c3f3",
   "metadata": {
    "ExecuteTime": {
     "end_time": "2021-06-01T07:37:22.615304Z",
     "start_time": "2021-06-01T07:37:22.173043Z"
    }
   },
   "outputs": [],
   "source": [
    "from model.singleLSTM import singleLSTM\n",
    "from model.stackedLSTM import stackedLSTM\n",
    "from model.CNN import CNN"
   ]
  },
  {
   "cell_type": "code",
   "execution_count": 14,
   "id": "5caeda72",
   "metadata": {
    "ExecuteTime": {
     "end_time": "2021-06-01T07:37:22.649985Z",
     "start_time": "2021-06-01T07:37:22.639449Z"
    }
   },
   "outputs": [],
   "source": [
    "def choose_model(model_type):\n",
    "    if model_type == 'singleLSTM':\n",
    "        model = singleLSTM(3, 320, 32).cuda()\n",
    "        save_path = 'results/singleLSTM/'\n",
    "        save_file_name = save_path + 'SingleLSTMSmartFall.pth'\n",
    "    elif model_type == 'stackedLSTM':\n",
    "        model = stackedLSTM(3, 320, 32).cuda()\n",
    "        save_path = 'results/stackedLSTM/'\n",
    "        save_file_name = save_path + 'StackedLSTMSmartFall.pth'\n",
    "    elif model_type == 'CNN':\n",
    "        model = CNN(3, [80, 160, 320], 32).cuda()\n",
    "        save_path = 'results/CNN/'\n",
    "        save_file_name = save_path + 'CNNSmartFall.pth'\n",
    "    return model, save_path, save_file_name"
   ]
  },
  {
   "cell_type": "code",
   "execution_count": 30,
   "id": "ec8d8dbc",
   "metadata": {
    "ExecuteTime": {
     "end_time": "2021-06-01T07:40:31.179077Z",
     "start_time": "2021-06-01T07:40:31.112003Z"
    }
   },
   "outputs": [
    {
     "name": "stdout",
     "output_type": "stream",
     "text": [
      "stackedLSTM(\n",
      "  (lstm): LSTM(3, 320, num_layers=2, batch_first=True)\n",
      "  (bn): BatchNorm1d(320, eps=1e-05, momentum=0.1, affine=True, track_running_stats=True)\n",
      "  (fc): Linear(in_features=320, out_features=32, bias=True)\n",
      ")\n"
     ]
    }
   ],
   "source": [
    "model_type = 'stackedLSTM'\n",
    "model, save_path, save_file_name = choose_model(model_type)\n",
    "print(model)"
   ]
  },
  {
   "cell_type": "code",
   "execution_count": 31,
   "id": "dfee928c",
   "metadata": {
    "ExecuteTime": {
     "end_time": "2021-06-01T07:40:32.074288Z",
     "start_time": "2021-06-01T07:40:32.060028Z"
    }
   },
   "outputs": [],
   "source": [
    "lr = 0.0001\n",
    "optimizer = torch.optim.Adam(model.parameters(), lr=lr)\n",
    "scheduler = torch.optim.lr_scheduler.ReduceLROnPlateau(optimizer=optimizer,\n",
    "                                                       mode='min',\n",
    "                                                       factor=0.2\n",
    "                                                    )\n",
    "criterion = nn.MSELoss().cuda()\n",
    "patience = 5\n",
    "n_epochs = 300"
   ]
  },
  {
   "cell_type": "code",
   "execution_count": 17,
   "id": "d3747e57",
   "metadata": {
    "ExecuteTime": {
     "end_time": "2021-06-01T07:37:27.437553Z",
     "start_time": "2021-06-01T07:37:27.398253Z"
    }
   },
   "outputs": [
    {
     "name": "stdout",
     "output_type": "stream",
     "text": [
      "X size torch.Size([64, 32, 3])\n",
      "y size torch.Size([64, 1, 32])\n",
      "torch.Size([64, 32])\n"
     ]
    }
   ],
   "source": [
    "# example\n",
    "\n",
    "with torch.no_grad():\n",
    "    dataiter = iter(train_loader)\n",
    "    X, y = dataiter.next()\n",
    "    \n",
    "    ex_model = model\n",
    "    if model_type != 'CNN':\n",
    "        X = X.view(-1, 32, 3)\n",
    "    print('X size', X.shape)\n",
    "    print('y size', y.shape)\n",
    "    output = ex_model(X.cuda())\n",
    "    print(output.shape)"
   ]
  },
  {
   "cell_type": "code",
   "execution_count": 29,
   "id": "4fba767c",
   "metadata": {
    "ExecuteTime": {
     "end_time": "2021-05-31T08:55:45.716939Z",
     "start_time": "2021-05-31T08:55:45.684840Z"
    }
   },
   "outputs": [],
   "source": [
    "def fit(model, batch_size, n_epochs, save_file_name):\n",
    "    \n",
    "    train_losses = []\n",
    "    valid_losses = []\n",
    "    avg_train_losses = []\n",
    "    avg_valid_losses = [] \n",
    "    \n",
    "    best_loss = 9999999999\n",
    "    patience = 0\n",
    "    \n",
    "    for epoch in range(1, n_epochs + 1):\n",
    "\n",
    "        ###################\n",
    "        # train the model #\n",
    "        ###################\n",
    "        model.train()\n",
    "        for data, target in train_loader:\n",
    "            optimizer.zero_grad()\n",
    "            if model_type != 'CNN':\n",
    "                data, target = data.view(-1, 32, 3).cuda(), target.cuda()\n",
    "            else:\n",
    "                data, target = data.cuda(), target.cuda()\n",
    "            output = model(data)\n",
    "            if model_type != 'CNN':\n",
    "                loss = criterion(output, target.squeeze())\n",
    "            else:\n",
    "                loss = criterion(output.squeeze(), target.squeeze())\n",
    "            loss.backward()\n",
    "            optimizer.step()\n",
    "            train_losses.append(loss.item())\n",
    "\n",
    "        ######################    \n",
    "        # validate the model #\n",
    "        ######################\n",
    "        model.eval()\n",
    "        for data, target in valid_loader:\n",
    "            if model_type != 'CNN':\n",
    "                data, target = data.view(-1, 32, 3).cuda(), target.cuda()\n",
    "            else:\n",
    "                data, target = data.cuda(), target.cuda()\n",
    "            output = model(data.cuda())\n",
    "            if model_type != 'CNN':\n",
    "                loss = criterion(output, target.squeeze())\n",
    "            else:\n",
    "                loss = criterion(output.squeeze(), target.squeeze())\n",
    "            valid_losses.append(loss.item())\n",
    "\n",
    "        train_loss = np.average(train_losses)\n",
    "        valid_loss = np.average(valid_losses)\n",
    "        avg_train_losses.append(train_loss)\n",
    "        avg_valid_losses.append(valid_loss)\n",
    "            \n",
    "        epoch_len = len(str(n_epochs))\n",
    "        \n",
    "        print_msg = (f'[{epoch:>{epoch_len}}/{n_epochs:>{epoch_len}}] ' +\n",
    "                     f'train_loss: {train_loss:.5f} ' +\n",
    "                     f'valid_loss: {valid_loss:.5f}')\n",
    "        \n",
    "        print(print_msg)\n",
    "        \n",
    "        train_losses = []\n",
    "        valid_losses = []\n",
    "        \n",
    "        if valid_loss < best_loss:\n",
    "            best_loss = valid_loss\n",
    "            patience = 0\n",
    "            torch.save(model.state_dict(), save_file_name)\n",
    "            print('Saving Model')\n",
    "        else:\n",
    "            patience += 1\n",
    "            print('Patience for ', patience)\n",
    "        if patience == 10:\n",
    "            break\n",
    "\n",
    "    model.load_state_dict(torch.load(save_file_name))\n",
    "\n",
    "    return  model, avg_train_losses, avg_valid_losses"
   ]
  },
  {
   "cell_type": "code",
   "execution_count": 30,
   "id": "1d8fe29b",
   "metadata": {
    "ExecuteTime": {
     "end_time": "2021-05-31T08:57:22.429006Z",
     "start_time": "2021-05-31T08:55:46.321471Z"
    }
   },
   "outputs": [
    {
     "name": "stdout",
     "output_type": "stream",
     "text": [
      "[  1/300] train_loss: 1.12417 valid_loss: 0.57720\n",
      "Saving Model\n",
      "[  2/300] train_loss: 1.09026 valid_loss: 0.59087\n",
      "Patience for  1\n",
      "[  3/300] train_loss: 1.07538 valid_loss: 0.59320\n",
      "Patience for  2\n",
      "[  4/300] train_loss: 1.06797 valid_loss: 0.59322\n",
      "Patience for  3\n",
      "[  5/300] train_loss: 1.06223 valid_loss: 0.59345\n",
      "Patience for  4\n",
      "[  6/300] train_loss: 1.05709 valid_loss: 0.59407\n",
      "Patience for  5\n",
      "[  7/300] train_loss: 1.05223 valid_loss: 0.59523\n",
      "Patience for  6\n",
      "[  8/300] train_loss: 1.04755 valid_loss: 0.59663\n",
      "Patience for  7\n",
      "[  9/300] train_loss: 1.04320 valid_loss: 0.59829\n",
      "Patience for  8\n",
      "[ 10/300] train_loss: 1.03905 valid_loss: 0.60021\n",
      "Patience for  9\n",
      "[ 11/300] train_loss: 1.03501 valid_loss: 0.60203\n",
      "Patience for  10\n"
     ]
    }
   ],
   "source": [
    "model, train_loss, valid_loss = fit(model, batch_size, n_epochs, save_file_name)"
   ]
  },
  {
   "cell_type": "code",
   "execution_count": 32,
   "id": "a934cd22",
   "metadata": {
    "ExecuteTime": {
     "end_time": "2021-06-01T07:40:36.647953Z",
     "start_time": "2021-06-01T07:40:36.630700Z"
    }
   },
   "outputs": [],
   "source": [
    "def evaluate_model(model, test_loader):\n",
    "    test_loss = 0.0\n",
    "    y_test = []\n",
    "    y_hat = []\n",
    "    model.eval()\n",
    "    for data,target in test_loader:\n",
    "        if model_type != 'CNN':\n",
    "            data, target = data.view(-1, 32, 3).cuda(), target.cuda()\n",
    "        else:\n",
    "            data, target = data.cuda(), target.cuda()   \n",
    "        output = model(data.cuda())\n",
    "        loss = criterion(output.squeeze(), target.squeeze())\n",
    "        test_loss += loss.item()\n",
    "        y_test += list(target.squeeze().detach().cpu().numpy())\n",
    "        y_hat += list(output.squeeze().detach().cpu().numpy())\n",
    "        \n",
    "    return test_loss/len(test_loader), y_test, y_hat"
   ]
  },
  {
   "cell_type": "code",
   "execution_count": 33,
   "id": "1f09db31",
   "metadata": {
    "ExecuteTime": {
     "end_time": "2021-06-01T07:40:40.509942Z",
     "start_time": "2021-06-01T07:40:40.414202Z"
    }
   },
   "outputs": [
    {
     "data": {
      "text/plain": [
       "<All keys matched successfully>"
      ]
     },
     "execution_count": 33,
     "metadata": {},
     "output_type": "execute_result"
    }
   ],
   "source": [
    "model.load_state_dict(torch.load(save_path + 'StackedLSTMSmartFall.pth'))"
   ]
  },
  {
   "cell_type": "code",
   "execution_count": 34,
   "id": "0d37cafb",
   "metadata": {
    "ExecuteTime": {
     "end_time": "2021-06-01T07:42:54.721357Z",
     "start_time": "2021-06-01T07:40:41.584944Z"
    }
   },
   "outputs": [],
   "source": [
    "test_loss, y_target, y_hat = evaluate_model(model, test_loader)"
   ]
  },
  {
   "cell_type": "code",
   "execution_count": 35,
   "id": "5c4c6f1f",
   "metadata": {
    "ExecuteTime": {
     "end_time": "2021-06-01T07:42:55.298975Z",
     "start_time": "2021-06-01T07:42:54.724124Z"
    }
   },
   "outputs": [],
   "source": [
    "labels = test_tar_scaler.inverse_transform(y_target)\n",
    "predicted = test_tar_scaler.inverse_transform(y_hat)"
   ]
  },
  {
   "cell_type": "code",
   "execution_count": 36,
   "id": "8c7d0abc",
   "metadata": {
    "ExecuteTime": {
     "end_time": "2021-06-01T07:42:55.306912Z",
     "start_time": "2021-06-01T07:42:55.301811Z"
    }
   },
   "outputs": [
    {
     "data": {
      "text/plain": [
       "(2910752, 2910752)"
      ]
     },
     "execution_count": 36,
     "metadata": {},
     "output_type": "execute_result"
    }
   ],
   "source": [
    "len(y_target), len(y_hat)"
   ]
  },
  {
   "cell_type": "code",
   "execution_count": 37,
   "id": "7da1fe9e",
   "metadata": {
    "ExecuteTime": {
     "end_time": "2021-06-01T07:43:00.973104Z",
     "start_time": "2021-06-01T07:42:55.309384Z"
    }
   },
   "outputs": [],
   "source": [
    "corrected_labels = []\n",
    "for i in range(len(labels)):\n",
    "    if labels[i] != 1.0:\n",
    "        corrected_labels.append(0.0)\n",
    "    else:\n",
    "        corrected_labels.append(1.0)"
   ]
  },
  {
   "cell_type": "code",
   "execution_count": 38,
   "id": "59477564",
   "metadata": {
    "ExecuteTime": {
     "end_time": "2021-06-01T07:43:04.167056Z",
     "start_time": "2021-06-01T07:43:00.975863Z"
    }
   },
   "outputs": [],
   "source": [
    "from collections import Counter\n",
    "cnt_y_hat = Counter(predicted)\n",
    "\n",
    "thres = np.array(list(cnt_y_hat.keys())).mean()\n",
    "corrected_predicted = []\n",
    "for i in range(len(predicted)):\n",
    "    if predicted[i] < thres:\n",
    "        corrected_predicted.append(0.0)\n",
    "    else:\n",
    "        corrected_predicted.append(1.0)"
   ]
  },
  {
   "cell_type": "code",
   "execution_count": 86,
   "id": "957be135",
   "metadata": {
    "ExecuteTime": {
     "end_time": "2021-05-31T09:56:14.967463Z",
     "start_time": "2021-05-31T09:56:00.138694Z"
    }
   },
   "outputs": [
    {
     "name": "stdout",
     "output_type": "stream",
     "text": [
      "[[ 940744 1809208]\n",
      " [   6494  154306]]\n",
      "\n",
      "recall score is  0.9596144278606965\n",
      "precision score is  0.07858665637219801\n",
      "f1 score is  0.14527607500586073\n",
      "accuracy score is  0.37620862237662295\n"
     ]
    }
   ],
   "source": [
    "print(confusion_matrix(corrected_labels, corrected_predicted))\n",
    "print()\n",
    "acc = accuracy_score(corrected_labels, corrected_predicted)\n",
    "f1 = f1_score(corrected_labels, corrected_predicted)\n",
    "recall = recall_score(corrected_labels, corrected_predicted)\n",
    "precision = precision_score(corrected_labels, corrected_predicted)\n",
    "\n",
    "print('recall score is ', recall)\n",
    "print('precision score is ', precision)\n",
    "print('f1 score is ', f1)\n",
    "print('accuracy score is ', acc)"
   ]
  },
  {
   "cell_type": "code",
   "execution_count": 87,
   "id": "f357698b",
   "metadata": {
    "ExecuteTime": {
     "end_time": "2021-05-31T09:56:15.179514Z",
     "start_time": "2021-05-31T09:56:14.970176Z"
    }
   },
   "outputs": [],
   "source": [
    "result = pd.DataFrame([acc, precision, recall, f1]).T\n",
    "result.columns = ['Accuracy', 'Precision', 'Recall', 'F1']\n",
    "result.to_csv(save_path + 'CNN.csv')"
   ]
  },
  {
   "cell_type": "code",
   "execution_count": 39,
   "id": "dac918dc",
   "metadata": {
    "ExecuteTime": {
     "end_time": "2021-06-01T07:43:04.900307Z",
     "start_time": "2021-06-01T07:43:04.169140Z"
    }
   },
   "outputs": [],
   "source": [
    "labels_32, predicted_32 = list(), list()\n",
    "for i in range(len(labels)):\n",
    "    if i % 32 == 0:\n",
    "        labels_32.append(labels[i])\n",
    "for i in range(len(predicted)):\n",
    "    if i % 32 == 0:\n",
    "        predicted_32.append(predicted[i])"
   ]
  },
  {
   "cell_type": "code",
   "execution_count": 41,
   "id": "64caf07e",
   "metadata": {
    "ExecuteTime": {
     "end_time": "2021-06-01T08:28:34.047392Z",
     "start_time": "2021-06-01T08:28:33.801540Z"
    }
   },
   "outputs": [
    {
     "ename": "TypeError",
     "evalue": "show() got an unexpected keyword argument 'grid'",
     "output_type": "error",
     "traceback": [
      "\u001b[0;31m---------------------------------------------------------------------------\u001b[0m",
      "\u001b[0;31mTypeError\u001b[0m                                 Traceback (most recent call last)",
      "\u001b[0;32m<ipython-input-41-eb39157fd07a>\u001b[0m in \u001b[0;36m<module>\u001b[0;34m\u001b[0m\n\u001b[1;32m      5\u001b[0m \u001b[0mplt\u001b[0m\u001b[0;34m.\u001b[0m\u001b[0mplot\u001b[0m\u001b[0;34m(\u001b[0m\u001b[0mpredicted_32\u001b[0m\u001b[0;34m[\u001b[0m\u001b[0;34m:\u001b[0m\u001b[0;36m1000\u001b[0m\u001b[0;34m]\u001b[0m\u001b[0;34m,\u001b[0m \u001b[0mlabel\u001b[0m\u001b[0;34m=\u001b[0m\u001b[0;34m'predicted'\u001b[0m\u001b[0;34m,\u001b[0m \u001b[0mcolor\u001b[0m\u001b[0;34m=\u001b[0m\u001b[0;34m'hotpink'\u001b[0m\u001b[0;34m)\u001b[0m\u001b[0;34m\u001b[0m\u001b[0;34m\u001b[0m\u001b[0m\n\u001b[1;32m      6\u001b[0m \u001b[0mplt\u001b[0m\u001b[0;34m.\u001b[0m\u001b[0mlegend\u001b[0m\u001b[0;34m(\u001b[0m\u001b[0mloc\u001b[0m\u001b[0;34m=\u001b[0m\u001b[0;34m'upper right'\u001b[0m\u001b[0;34m,\u001b[0m \u001b[0mfontsize\u001b[0m\u001b[0;34m=\u001b[0m\u001b[0;36m15\u001b[0m\u001b[0;34m)\u001b[0m\u001b[0;34m\u001b[0m\u001b[0;34m\u001b[0m\u001b[0m\n\u001b[0;32m----> 7\u001b[0;31m \u001b[0mplt\u001b[0m\u001b[0;34m.\u001b[0m\u001b[0mshow\u001b[0m\u001b[0;34m(\u001b[0m\u001b[0mgrid\u001b[0m\u001b[0;34m=\u001b[0m\u001b[0;32mFalse\u001b[0m\u001b[0;34m)\u001b[0m\u001b[0;34m\u001b[0m\u001b[0;34m\u001b[0m\u001b[0m\n\u001b[0m\u001b[1;32m      8\u001b[0m \u001b[0mplt\u001b[0m\u001b[0;34m.\u001b[0m\u001b[0msavefig\u001b[0m\u001b[0;34m(\u001b[0m\u001b[0msave_path\u001b[0m \u001b[0;34m+\u001b[0m \u001b[0;34m'stackedLSTMSmartFall.png'\u001b[0m\u001b[0;34m)\u001b[0m\u001b[0;34m\u001b[0m\u001b[0;34m\u001b[0m\u001b[0m\n",
      "\u001b[0;32m/usr/local/lib/python3.6/dist-packages/matplotlib/pyplot.py\u001b[0m in \u001b[0;36mshow\u001b[0;34m(*args, **kwargs)\u001b[0m\n\u001b[1;32m    351\u001b[0m     \"\"\"\n\u001b[1;32m    352\u001b[0m     \u001b[0m_warn_if_gui_out_of_main_thread\u001b[0m\u001b[0;34m(\u001b[0m\u001b[0;34m)\u001b[0m\u001b[0;34m\u001b[0m\u001b[0;34m\u001b[0m\u001b[0m\n\u001b[0;32m--> 353\u001b[0;31m     \u001b[0;32mreturn\u001b[0m \u001b[0m_backend_mod\u001b[0m\u001b[0;34m.\u001b[0m\u001b[0mshow\u001b[0m\u001b[0;34m(\u001b[0m\u001b[0;34m*\u001b[0m\u001b[0margs\u001b[0m\u001b[0;34m,\u001b[0m \u001b[0;34m**\u001b[0m\u001b[0mkwargs\u001b[0m\u001b[0;34m)\u001b[0m\u001b[0;34m\u001b[0m\u001b[0;34m\u001b[0m\u001b[0m\n\u001b[0m\u001b[1;32m    354\u001b[0m \u001b[0;34m\u001b[0m\u001b[0m\n\u001b[1;32m    355\u001b[0m \u001b[0;34m\u001b[0m\u001b[0m\n",
      "\u001b[0;31mTypeError\u001b[0m: show() got an unexpected keyword argument 'grid'"
     ]
    },
    {
     "data": {
      "image/png": "[encoded data removed]",
      "text/plain": [
       "<Figure size 720x360 with 1 Axes>"
      ]
     },
     "metadata": {
      "needs_background": "light"
     },
     "output_type": "display_data"
    }
   ],
   "source": [
    "from matplotlib import pyplot as plt\n",
    "\n",
    "plt.figure(figsize=(10, 5))\n",
    "plt.plot(labels_32[:1000], label='target', color='darkorange')\n",
    "plt.plot(predicted_32[:1000], label='predicted', color='hotpink')\n",
    "plt.legend(loc='upper right', fontsize=15)\n",
    "plt.show(grid=False)\n",
    "plt.savefig(save_path + 'stackedLSTMSmartFall.png')"
   ]
  },
  {
   "cell_type": "code",
   "execution_count": null,
   "id": "bfccdefc",
   "metadata": {},
   "outputs": [],
   "source": []
  }
 ],
 "metadata": {
  "kernelspec": {
   "display_name": "Python 3",
   "language": "python",
   "name": "python3"
  },
  "language_info": {
   "codemirror_mode": {
    "name": "ipython",
    "version": 3
   },
   "file_extension": ".py",
   "mimetype": "text/x-python",
   "name": "python",
   "nbconvert_exporter": "python",
   "pygments_lexer": "ipython3",
   "version": "3.6.13"
  },
  "latex_envs": {
   "LaTeX_envs_menu_present": true,
   "autoclose": false,
   "autocomplete": true,
   "bibliofile": "biblio.bib",
   "cite_by": "apalike",
   "current_citInitial": 1,
   "eqLabelWithNumbers": true,
   "eqNumInitial": 1,
   "hotkeys": {
    "equation": "Ctrl-E",
    "itemize": "Ctrl-I"
   },
   "labels_anchors": false,
   "latex_user_defs": false,
   "report_style_numbering": false,
   "user_envs_cfg": false
  }
 },
 "nbformat": 4,
 "nbformat_minor": 5
}
