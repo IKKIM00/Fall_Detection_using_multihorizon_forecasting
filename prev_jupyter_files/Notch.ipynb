{
 "cells": [
  {
   "cell_type": "code",
   "execution_count": 1,
   "id": "1a1744bb",
   "metadata": {
    "ExecuteTime": {
     "end_time": "2022-04-05T01:04:26.360608Z",
     "start_time": "2022-04-05T01:04:25.141569Z"
    }
   },
   "outputs": [],
   "source": [
    "import pandas as pd\n",
    "import numpy as np\n",
    "import os\n",
    "import sys\n",
    "from datetime import datetime\n",
    "from matplotlib import pyplot as plt\n",
    "\n",
    "from sklearn.model_selection import train_test_split\n",
    "from sklearn.metrics import confusion_matrix\n",
    "from sklearn.metrics import accuracy_score, f1_score, recall_score, precision_score\n",
    "from sklearn.preprocessing import StandardScaler, LabelEncoder\n",
    "\n",
    "import torch\n",
    "import torch.nn as nn\n",
    "from torch.nn import functional as F\n",
    "from torch.utils.tensorboard import SummaryWriter\n",
    "from torch.utils.data import DataLoader, random_split, TensorDataset\n",
    "\n",
    "%matplotlib inline\n",
    "\n",
    "sys.path.append('/workspace/inkyung/Fall_Detection_using_multihorizon_forecasting/')"
   ]
  },
  {
   "cell_type": "code",
   "execution_count": 2,
   "id": "7983f425",
   "metadata": {
    "ExecuteTime": {
     "end_time": "2022-04-05T01:04:27.524962Z",
     "start_time": "2022-04-05T01:04:27.344841Z"
    }
   },
   "outputs": [
    {
     "data": {
      "text/plain": [
       "'cuda:2'"
      ]
     },
     "execution_count": 2,
     "metadata": {},
     "output_type": "execute_result"
    }
   ],
   "source": [
    "np.random.seed(42)\n",
    "device = 'cuda:2' if torch.cuda.is_available() else 'cpu'\n",
    "device"
   ]
  },
  {
   "cell_type": "code",
   "execution_count": 3,
   "id": "42159ab5",
   "metadata": {
    "ExecuteTime": {
     "end_time": "2022-04-05T01:04:27.702333Z",
     "start_time": "2022-04-05T01:04:27.695685Z"
    }
   },
   "outputs": [],
   "source": [
    "data_dir = '../dataset/notch_dataset/'\n",
    "all_file_list = os.listdir(data_dir)\n",
    "file_list = []\n",
    "for file in all_file_list:\n",
    "    if file.endswith('csv'):\n",
    "        file_list.append(file)\n",
    "file_list = sorted(file_list)"
   ]
  },
  {
   "cell_type": "code",
   "execution_count": 4,
   "id": "bb984be9",
   "metadata": {
    "ExecuteTime": {
     "end_time": "2022-04-05T01:04:27.979186Z",
     "start_time": "2022-04-05T01:04:27.881238Z"
    }
   },
   "outputs": [],
   "source": [
    "train = pd.DataFrame()\n",
    "for i in range(5):\n",
    "    data = pd.read_csv(data_dir + file_list[i])\n",
    "    data['person_id'] = i+1\n",
    "    train = pd.concat([train, data])\n",
    "    \n",
    "valid = pd.read_csv(data_dir + file_list[5])\n",
    "valid['person_id'] = 6\n",
    "\n",
    "test = pd.read_csv(data_dir + file_list[6])\n",
    "test['person_id'] = 7"
   ]
  },
  {
   "cell_type": "code",
   "execution_count": 5,
   "id": "78a69c29",
   "metadata": {
    "ExecuteTime": {
     "end_time": "2022-04-05T01:04:28.917709Z",
     "start_time": "2022-04-05T01:04:28.872581Z"
    }
   },
   "outputs": [],
   "source": [
    "train_obs_scaler = StandardScaler()\n",
    "train_tar_scaler = StandardScaler()\n",
    "\n",
    "test_obs_scaler = StandardScaler()\n",
    "test_tar_scaler = StandardScaler()\n",
    "\n",
    "columns = ['Acc_x [m/s^2]', 'Acc_y [m/s^2]', 'Acc_z [m/s^2]', 'AnyFall', 'person_id']\n",
    "\n",
    "obs_train = train[['Acc_x [m/s^2]', 'Acc_y [m/s^2]', 'Acc_z [m/s^2]']]\n",
    "obs_train = train_obs_scaler.fit_transform(obs_train)\n",
    "tar_train = np.asarray(train['AnyFall'])\n",
    "tar_train = train_tar_scaler.fit_transform(tar_train.reshape(-1, 1))\n",
    "\n",
    "obs_train = pd.DataFrame(obs_train)\n",
    "tar_train = pd.DataFrame(tar_train)\n",
    "transformed_train = pd.concat([obs_train, tar_train], axis=1)\n",
    "transformed_train['per-id'] = train['person_id'].values\n",
    "transformed_train.columns = columns\n",
    "\n",
    "obs_valid = valid[['Acc_x [m/s^2]', 'Acc_y [m/s^2]', 'Acc_z [m/s^2]']]\n",
    "obs_valid = train_obs_scaler.fit_transform(obs_valid)\n",
    "tar_valid = np.asarray(valid['AnyFall'])\n",
    "tar_valid = train_tar_scaler.fit_transform(tar_valid.reshape(-1, 1))\n",
    "\n",
    "obs_valid = pd.DataFrame(obs_valid)\n",
    "tar_valid = pd.DataFrame(tar_valid)\n",
    "transformed_valid = pd.concat([obs_valid, tar_valid], axis=1)\n",
    "transformed_valid['per-id'] = valid['person_id'].values\n",
    "transformed_valid.columns = columns\n",
    "\n",
    "obs_test = test[['Acc_x [m/s^2]', 'Acc_y [m/s^2]', 'Acc_z [m/s^2]']]\n",
    "obs_test = test_obs_scaler.fit_transform(obs_test)\n",
    "tar_test = np.asarray(test['AnyFall'])\n",
    "tar_test = test_tar_scaler.fit_transform(tar_test.reshape(-1, 1))\n",
    "\n",
    "obs_test = pd.DataFrame(obs_test)\n",
    "tar_test = pd.DataFrame(tar_test)\n",
    "transformed_test = pd.concat([obs_test, tar_test], axis=1)\n",
    "transformed_test['per-id'] = test['person_id'].values\n",
    "transformed_test.columns = columns"
   ]
  },
  {
   "cell_type": "markdown",
   "id": "bdd46d32",
   "metadata": {},
   "source": [
    "# Data processing"
   ]
  },
  {
   "cell_type": "code",
   "execution_count": 6,
   "id": "0df0cad1",
   "metadata": {
    "ExecuteTime": {
     "end_time": "2022-04-05T01:04:29.805956Z",
     "start_time": "2022-04-05T01:04:29.795820Z"
    }
   },
   "outputs": [],
   "source": [
    "def dataProcessing(data):\n",
    "    X_data, y_data = list(), list()\n",
    "    for i in range(32, len(data) - 32):\n",
    "        acc_x = data['Acc_x [m/s^2]'][i-32: i]\n",
    "        acc_y = data['Acc_y [m/s^2]'][i-32: i]\n",
    "        acc_z = data['Acc_z [m/s^2]'][i-32: i]\n",
    "        X_data.append([acc_x.values, acc_y.values, acc_z.values])\n",
    "        \n",
    "        outcome = data['AnyFall'][i: i+32]\n",
    "        y_data.append([outcome.values])\n",
    "    return X_data, y_data"
   ]
  },
  {
   "cell_type": "code",
   "execution_count": 7,
   "id": "06728179",
   "metadata": {
    "ExecuteTime": {
     "end_time": "2022-04-05T01:04:50.837491Z",
     "start_time": "2022-04-05T01:04:30.221545Z"
    }
   },
   "outputs": [],
   "source": [
    "X_train, y_train = dataProcessing(transformed_train)\n",
    "X_valid, y_valid = dataProcessing(transformed_valid)\n",
    "X_test, y_test = dataProcessing(transformed_test)"
   ]
  },
  {
   "cell_type": "code",
   "execution_count": 8,
   "id": "87526998",
   "metadata": {
    "ExecuteTime": {
     "end_time": "2022-04-05T01:05:06.182081Z",
     "start_time": "2022-04-05T01:05:03.358808Z"
    }
   },
   "outputs": [
    {
     "name": "stderr",
     "output_type": "stream",
     "text": [
      "/opt/conda/envs/inkyung_tft/lib/python3.7/site-packages/ipykernel_launcher.py:3: UserWarning: Creating a tensor from a list of numpy.ndarrays is extremely slow. Please consider converting the list to a single numpy.ndarray with numpy.array() before converting to a tensor. (Triggered internally at  ../torch/csrc/utils/tensor_new.cpp:210.)\n",
      "  This is separate from the ipykernel package so we can avoid doing imports until\n"
     ]
    }
   ],
   "source": [
    "batch_size = 64\n",
    "\n",
    "train_data = TensorDataset(torch.Tensor(X_train), torch.Tensor(y_train))\n",
    "train_loader = DataLoader(train_data, shuffle=False, batch_size=batch_size)\n",
    "\n",
    "valid_data = TensorDataset(torch.Tensor(X_valid), torch.Tensor(y_valid))\n",
    "valid_loader = DataLoader(valid_data, shuffle=False, batch_size=batch_size)\n",
    "\n",
    "test_data = TensorDataset(torch.Tensor(X_test), torch.Tensor(y_test))\n",
    "test_loader = DataLoader(test_data, shuffle=False, batch_size=1)"
   ]
  },
  {
   "cell_type": "markdown",
   "id": "0e1ff44a",
   "metadata": {},
   "source": [
    "# Model"
   ]
  },
  {
   "cell_type": "code",
   "execution_count": 9,
   "id": "e06a98a9",
   "metadata": {
    "ExecuteTime": {
     "end_time": "2022-04-05T01:05:23.276916Z",
     "start_time": "2022-04-05T01:05:23.271506Z"
    }
   },
   "outputs": [],
   "source": [
    "from model.CNN import CNN\n",
    "from model.LSTM import LSTM"
   ]
  },
  {
   "cell_type": "code",
   "execution_count": 10,
   "id": "7ac07a64",
   "metadata": {
    "ExecuteTime": {
     "end_time": "2022-04-05T01:05:26.421337Z",
     "start_time": "2022-04-05T01:05:26.413802Z"
    }
   },
   "outputs": [],
   "source": [
    "def choose_model(model_type):\n",
    "    if model_type == 'SingleLSTM':\n",
    "        model = LSTM(3, 320, 32, 1).cuda()\n",
    "        save_path = '../results/singleLSTM/'\n",
    "    elif model_type == 'StackedLSTM':\n",
    "        model = LSTM(3, 320, 32, 2).cuda()\n",
    "        save_path = '../results/stackedLSTM/'\n",
    "    elif model_type == 'CNN':\n",
    "        model = CNN(3, [80, 160, 320], 32).cuda()\n",
    "        save_path = '../results/CNN/'\n",
    "    save_file_name = save_path + f'{model_type}Notch.pth'\n",
    "    return model, save_path, save_file_name"
   ]
  },
  {
   "cell_type": "code",
   "execution_count": 29,
   "id": "279dc747",
   "metadata": {
    "ExecuteTime": {
     "end_time": "2022-04-05T01:09:44.412859Z",
     "start_time": "2022-04-05T01:09:44.399707Z"
    }
   },
   "outputs": [
    {
     "name": "stdout",
     "output_type": "stream",
     "text": [
      "CNN(\n",
      "  (block1): Sequential(\n",
      "    (0): Conv1d(3, 80, kernel_size=(4,), stride=(1,), padding=(1,))\n",
      "    (1): ReLU()\n",
      "  )\n",
      "  (block2): Sequential(\n",
      "    (0): Conv1d(80, 160, kernel_size=(4,), stride=(1,), padding=(1,))\n",
      "    (1): ReLU()\n",
      "  )\n",
      "  (block3): Sequential(\n",
      "    (0): Conv1d(160, 320, kernel_size=(4,), stride=(1,), padding=(1,))\n",
      "    (1): ReLU()\n",
      "  )\n",
      "  (conv1): Conv1d(320, 32, kernel_size=(1,), stride=(1,))\n",
      ")\n"
     ]
    }
   ],
   "source": [
    "model_type = 'CNN'\n",
    "model, save_path, save_file_name = choose_model(model_type)\n",
    "print(model)"
   ]
  },
  {
   "cell_type": "code",
   "execution_count": 12,
   "id": "1709ffa3",
   "metadata": {
    "ExecuteTime": {
     "end_time": "2022-04-05T01:05:41.105750Z",
     "start_time": "2022-04-05T01:05:41.099152Z"
    }
   },
   "outputs": [],
   "source": [
    "lr = 0.0001\n",
    "optimizer = torch.optim.Adam(model.parameters(), lr=lr)\n",
    "scheduler = torch.optim.lr_scheduler.ReduceLROnPlateau(optimizer=optimizer,\n",
    "                                                       mode='min',\n",
    "                                                       factor=0.2\n",
    "                                                    )\n",
    "criterion = nn.MSELoss().cuda()\n",
    "patience = 5\n",
    "n_epochs = 300"
   ]
  },
  {
   "cell_type": "code",
   "execution_count": 15,
   "id": "fab3936e",
   "metadata": {
    "ExecuteTime": {
     "end_time": "2021-06-01T03:55:59.333834Z",
     "start_time": "2021-06-01T03:55:59.085142Z"
    }
   },
   "outputs": [
    {
     "name": "stdout",
     "output_type": "stream",
     "text": [
      "X size torch.Size([64, 3, 32])\n",
      "y size torch.Size([64, 1, 32])\n",
      "torch.Size([64, 32, 1])\n"
     ]
    }
   ],
   "source": [
    "# example\n",
    "\n",
    "with torch.no_grad():\n",
    "    dataiter = iter(train_loader)\n",
    "    X, y = dataiter.next()\n",
    "    \n",
    "    ex_model = model\n",
    "    if model_type != 'CNN':\n",
    "        X = X.view(-1, 32, 3)\n",
    "    print('X size', X.shape)\n",
    "    print('y size', y.shape)\n",
    "    output = ex_model(X.cuda())\n",
    "    print(output.shape)"
   ]
  },
  {
   "cell_type": "code",
   "execution_count": 45,
   "id": "da66a3d2",
   "metadata": {
    "ExecuteTime": {
     "end_time": "2022-04-03T05:51:05.806717Z",
     "start_time": "2022-04-03T05:51:05.784080Z"
    }
   },
   "outputs": [],
   "source": [
    "def fit(model, batch_size, n_epochs, save_file_name):\n",
    "    \n",
    "    train_losses = []\n",
    "    valid_losses = []\n",
    "    avg_train_losses = []\n",
    "    avg_valid_losses = [] \n",
    "    \n",
    "    best_loss = 9999999999\n",
    "    patience = 0\n",
    "    \n",
    "    for epoch in range(1, n_epochs + 1):\n",
    "\n",
    "        ###################\n",
    "        # train the model #\n",
    "        ###################\n",
    "        model.train()\n",
    "        for data, target in train_loader:\n",
    "            optimizer.zero_grad()\n",
    "            if model_type != 'CNN':\n",
    "                data, target = data.view(-1, 32, 3).cuda(), target.cuda()\n",
    "            else:\n",
    "                data, target = data.cuda(), target.cuda()\n",
    "            output = model(data)\n",
    "            if model_type != 'CNN':\n",
    "                loss = criterion(output, target.squeeze())\n",
    "            else:\n",
    "                loss = criterion(output.squeeze(), target.squeeze())\n",
    "            loss.backward()\n",
    "            optimizer.step()\n",
    "            train_losses.append(loss.item())\n",
    "\n",
    "        ######################    \n",
    "        # validate the model #\n",
    "        ######################\n",
    "        model.eval()\n",
    "        for data, target in valid_loader:\n",
    "            if model_type != 'CNN':\n",
    "                data, target = data.view(-1, 32, 3).cuda(), target.cuda()\n",
    "            else:\n",
    "                data, target = data.cuda(), target.cuda()\n",
    "            output = model(data.cuda())\n",
    "            if model_type != 'CNN':\n",
    "                loss = criterion(output, target.squeeze())\n",
    "            else:\n",
    "                loss = criterion(output.squeeze(), target.squeeze())\n",
    "            valid_losses.append(loss.item())\n",
    "\n",
    "        train_loss = np.average(train_losses)\n",
    "        valid_loss = np.average(valid_losses)\n",
    "        avg_train_losses.append(train_loss)\n",
    "        avg_valid_losses.append(valid_loss)\n",
    "            \n",
    "        epoch_len = len(str(n_epochs))\n",
    "        \n",
    "        print_msg = (f'[{epoch:>{epoch_len}}/{n_epochs:>{epoch_len}}] ' +\n",
    "                     f'train_loss: {train_loss:.5f} ' +\n",
    "                     f'valid_loss: {valid_loss:.5f}')\n",
    "        \n",
    "        print(print_msg)\n",
    "        \n",
    "        train_losses = []\n",
    "        valid_losses = []\n",
    "        \n",
    "        if valid_loss < best_loss:\n",
    "            best_loss = valid_loss\n",
    "            patience = 0\n",
    "            torch.save(model.state_dict(), save_file_name)\n",
    "            print('Saving Model')\n",
    "        else:\n",
    "            patience += 1\n",
    "            print('Patience for ', patience)\n",
    "        if patience == 10:\n",
    "            break\n",
    "\n",
    "    model.load_state_dict(torch.load(save_file_name))\n",
    "\n",
    "    return  model, avg_train_losses, avg_valid_losses"
   ]
  },
  {
   "cell_type": "code",
   "execution_count": 46,
   "id": "29ea1f6e",
   "metadata": {
    "ExecuteTime": {
     "end_time": "2022-04-03T05:51:59.153859Z",
     "start_time": "2022-04-03T05:51:10.647407Z"
    },
    "scrolled": true
   },
   "outputs": [
    {
     "name": "stdout",
     "output_type": "stream",
     "text": [
      "[  1/300] train_loss: 0.94075 valid_loss: 0.91489\n",
      "Saving Model\n",
      "[  2/300] train_loss: 0.86734 valid_loss: 0.90353\n",
      "Saving Model\n",
      "[  3/300] train_loss: 0.80607 valid_loss: 0.92641\n",
      "Patience for  1\n",
      "[  4/300] train_loss: 0.74697 valid_loss: 0.96594\n",
      "Patience for  2\n",
      "[  5/300] train_loss: 0.70193 valid_loss: 0.99272\n",
      "Patience for  3\n",
      "[  6/300] train_loss: 0.66997 valid_loss: 1.01554\n",
      "Patience for  4\n",
      "[  7/300] train_loss: 0.64727 valid_loss: 1.03815\n",
      "Patience for  5\n",
      "[  8/300] train_loss: 0.62888 valid_loss: 1.06140\n",
      "Patience for  6\n",
      "[  9/300] train_loss: 0.61249 valid_loss: 1.08125\n",
      "Patience for  7\n",
      "[ 10/300] train_loss: 0.59799 valid_loss: 1.10287\n",
      "Patience for  8\n",
      "[ 11/300] train_loss: 0.58438 valid_loss: 1.13140\n",
      "Patience for  9\n",
      "[ 12/300] train_loss: 0.57284 valid_loss: 1.15625\n",
      "Patience for  10\n"
     ]
    }
   ],
   "source": [
    "model, train_loss, valid_loss = fit(model, batch_size, n_epochs, save_file_name)"
   ]
  },
  {
   "cell_type": "code",
   "execution_count": 13,
   "id": "d30b90a3",
   "metadata": {
    "ExecuteTime": {
     "end_time": "2022-04-05T01:05:47.441446Z",
     "start_time": "2022-04-05T01:05:47.430940Z"
    }
   },
   "outputs": [],
   "source": [
    "def evaluate_model(model, test_loader):\n",
    "    test_loss = 0.0\n",
    "    y_test = []\n",
    "    y_hat = []\n",
    "    model.eval()\n",
    "    for data,target in test_loader:\n",
    "        if model_type != 'CNN':\n",
    "            data, target = data.view(-1, 32, 3).cuda(), target.cuda()\n",
    "        else:\n",
    "            data, target = data.cuda(), target.cuda()   \n",
    "        output = model(data.cuda())\n",
    "        loss = criterion(output.squeeze(), target.squeeze())\n",
    "        test_loss += loss.item()\n",
    "        y_test += list(target.squeeze().detach().cpu().numpy())\n",
    "        y_hat += list(output.squeeze().detach().cpu().numpy())\n",
    "        \n",
    "    return test_loss/len(test_loader), y_test, y_hat"
   ]
  },
  {
   "cell_type": "code",
   "execution_count": 30,
   "id": "56462140",
   "metadata": {
    "ExecuteTime": {
     "end_time": "2022-04-05T01:09:51.276718Z",
     "start_time": "2022-04-05T01:09:51.265184Z"
    }
   },
   "outputs": [
    {
     "data": {
      "text/plain": [
       "<All keys matched successfully>"
      ]
     },
     "execution_count": 30,
     "metadata": {},
     "output_type": "execute_result"
    }
   ],
   "source": [
    "model.load_state_dict(torch.load(save_file_name))"
   ]
  },
  {
   "cell_type": "code",
   "execution_count": 31,
   "id": "f3970670",
   "metadata": {
    "ExecuteTime": {
     "end_time": "2022-04-05T01:10:05.274299Z",
     "start_time": "2022-04-05T01:09:54.527880Z"
    }
   },
   "outputs": [],
   "source": [
    "test_loss, y_target, y_hat = evaluate_model(model, test_loader)"
   ]
  },
  {
   "cell_type": "code",
   "execution_count": 32,
   "id": "69a7c8bc",
   "metadata": {
    "ExecuteTime": {
     "end_time": "2022-04-05T01:14:03.212695Z",
     "start_time": "2022-04-05T01:14:03.099187Z"
    }
   },
   "outputs": [],
   "source": [
    "labels = test_tar_scaler.inverse_transform(np.asarray(y_target).reshape(-1, 1))\n",
    "predicted = test_tar_scaler.inverse_transform(np.asarray(y_hat).reshape(-1, 1))"
   ]
  },
  {
   "cell_type": "code",
   "execution_count": 41,
   "id": "f9d728fa",
   "metadata": {
    "ExecuteTime": {
     "end_time": "2022-04-03T05:48:49.200688Z",
     "start_time": "2022-04-03T05:48:49.191225Z"
    }
   },
   "outputs": [
    {
     "data": {
      "text/plain": [
       "array([[0.08182264],\n",
       "       [0.07356285],\n",
       "       [0.04462659],\n",
       "       ...,\n",
       "       [0.12943852],\n",
       "       [0.08828549],\n",
       "       [0.08650754]], dtype=float32)"
      ]
     },
     "execution_count": 41,
     "metadata": {},
     "output_type": "execute_result"
    }
   ],
   "source": [
    "predicted"
   ]
  },
  {
   "cell_type": "code",
   "execution_count": 21,
   "id": "486edaa7",
   "metadata": {
    "ExecuteTime": {
     "end_time": "2021-06-01T03:58:42.301247Z",
     "start_time": "2021-06-01T03:58:42.291360Z"
    }
   },
   "outputs": [
    {
     "data": {
      "text/plain": [
       "(338624, 338624)"
      ]
     },
     "execution_count": 21,
     "metadata": {},
     "output_type": "execute_result"
    }
   ],
   "source": [
    "len(y_target), len(y_hat)"
   ]
  },
  {
   "cell_type": "code",
   "execution_count": 22,
   "id": "e4180aba",
   "metadata": {
    "ExecuteTime": {
     "end_time": "2021-06-01T03:58:43.054937Z",
     "start_time": "2021-06-01T03:58:42.304018Z"
    }
   },
   "outputs": [],
   "source": [
    "corrected_labels = []\n",
    "for i in range(len(labels)):\n",
    "    if labels[i] != 1.0:\n",
    "        corrected_labels.append(0.0)\n",
    "    else:\n",
    "        corrected_labels.append(1.0)"
   ]
  },
  {
   "cell_type": "code",
   "execution_count": 23,
   "id": "d3d4f4f0",
   "metadata": {
    "ExecuteTime": {
     "end_time": "2021-06-01T03:58:43.423515Z",
     "start_time": "2021-06-01T03:58:43.063404Z"
    }
   },
   "outputs": [],
   "source": [
    "from collections import Counter\n",
    "cnt_y_hat = Counter(predicted)\n",
    "\n",
    "thres = np.array(list(cnt_y_hat.keys())).mean()\n",
    "corrected_predicted = []\n",
    "for i in range(len(predicted)):\n",
    "    if predicted[i] < thres:\n",
    "        corrected_predicted.append(0.0)\n",
    "    else:\n",
    "        corrected_predicted.append(1.0)"
   ]
  },
  {
   "cell_type": "code",
   "execution_count": 24,
   "id": "fe0f2f3d",
   "metadata": {
    "ExecuteTime": {
     "end_time": "2021-06-01T03:58:44.914350Z",
     "start_time": "2021-06-01T03:58:43.425957Z"
    }
   },
   "outputs": [
    {
     "name": "stdout",
     "output_type": "stream",
     "text": [
      "[[183930 121350]\n",
      " [ 17490  15854]]\n",
      "\n",
      "recall score is  0.4754678502879079\n",
      "precision score is  0.11555056703886184\n",
      "f1 score is  0.18591833384149914\n",
      "accuracy score is  0.589987714987715\n"
     ]
    }
   ],
   "source": [
    "print(confusion_matrix(corrected_labels, corrected_predicted))\n",
    "print()\n",
    "acc = accuracy_score(corrected_labels, corrected_predicted)\n",
    "f1 = f1_score(corrected_labels, corrected_predicted)\n",
    "recall = recall_score(corrected_labels, corrected_predicted)\n",
    "precision = precision_score(corrected_labels, corrected_predicted)\n",
    "\n",
    "print('recall score is ', recall)\n",
    "print('precision score is ', precision)\n",
    "print('f1 score is ', f1)\n",
    "print('accuracy score is ', acc)"
   ]
  },
  {
   "cell_type": "code",
   "execution_count": 25,
   "id": "fb7e460e",
   "metadata": {
    "ExecuteTime": {
     "end_time": "2021-06-01T03:58:44.970290Z",
     "start_time": "2021-06-01T03:58:44.916673Z"
    }
   },
   "outputs": [],
   "source": [
    "result = pd.DataFrame([acc, precision, recall, f1]).T\n",
    "result.columns = ['Accuracy', 'Precision', 'Recall', 'F1']\n",
    "result.to_csv(save_path + 'CNNNotch.csv')"
   ]
  },
  {
   "cell_type": "code",
   "execution_count": 33,
   "id": "4daabedf",
   "metadata": {
    "ExecuteTime": {
     "end_time": "2022-04-05T01:14:09.578317Z",
     "start_time": "2022-04-05T01:14:09.455242Z"
    }
   },
   "outputs": [],
   "source": [
    "labels_32, predicted_32 = list(), list()\n",
    "for i in range(len(labels)):\n",
    "    if i % 32 == 0:\n",
    "        labels_32.append(labels[i])\n",
    "for i in range(len(predicted)):\n",
    "    if i % 32 == 0:\n",
    "        predicted_32.append(predicted[i])"
   ]
  },
  {
   "cell_type": "code",
   "execution_count": 35,
   "id": "8cc3cf1d",
   "metadata": {
    "ExecuteTime": {
     "end_time": "2022-04-05T01:14:20.064302Z",
     "start_time": "2022-04-05T01:14:19.895081Z"
    }
   },
   "outputs": [
    {
     "data": {
      "image/png": "[encoded data removed]",
      "text/plain": [
       "<Figure size 720x360 with 1 Axes>"
      ]
     },
     "metadata": {
      "needs_background": "light"
     },
     "output_type": "display_data"
    },
    {
     "data": {
      "text/plain": [
       "<Figure size 432x288 with 0 Axes>"
      ]
     },
     "metadata": {},
     "output_type": "display_data"
    }
   ],
   "source": [
    "##### from matplotlib import pyplot as plt\n",
    "\n",
    "plt.figure(figsize=(10, 5))\n",
    "ax = plt.subplot(111)\n",
    "ax.spines['right'].set_visible(False)\n",
    "ax.spines['top'].set_visible(False)\n",
    "ax.xaxis.set_ticks_position('bottom')\n",
    "ax.yaxis.set_ticks_position('left')\n",
    "ax.margins(x=0.01, y=0.01)\n",
    "plt.plot(labels_32[600:1600], label='target', color='#E31A1C', linewidth=4)\n",
    "plt.plot(predicted_32[600:1600], label='predicted', color='#009ADE', linestyle='--', linewidth=4)\n",
    "# plt.legend(bbox_to_anchor=(1.05, 1.0), loc='upper left', fontsize=20, ncol=2)\n",
    "plt.xticks([0, 1000], fontsize=20)\n",
    "plt.yticks([0, 1], fontsize=20)\n",
    "plt.xlabel('Time Step', fontsize=30)\n",
    "plt.ylabel('Value', fontsize=30)\n",
    "plt.show()\n",
    "plt.savefig(save_path + f'{model_type}Notch.png')"
   ]
  },
  {
   "cell_type": "code",
   "execution_count": null,
   "id": "f084446a",
   "metadata": {},
   "outputs": [],
   "source": []
  }
 ],
 "metadata": {
  "kernelspec": {
   "display_name": "inkyugn_tft",
   "language": "python",
   "name": "inkyung_tft"
  },
  "language_info": {
   "codemirror_mode": {
    "name": "ipython",
    "version": 3
   },
   "file_extension": ".py",
   "mimetype": "text/x-python",
   "name": "python",
   "nbconvert_exporter": "python",
   "pygments_lexer": "ipython3",
   "version": "3.7.3"
  },
  "latex_envs": {
   "LaTeX_envs_menu_present": true,
   "autoclose": false,
   "autocomplete": true,
   "bibliofile": "biblio.bib",
   "cite_by": "apalike",
   "current_citInitial": 1,
   "eqLabelWithNumbers": true,
   "eqNumInitial": 1,
   "hotkeys": {
    "equation": "Ctrl-E",
    "itemize": "Ctrl-I"
   },
   "labels_anchors": false,
   "latex_user_defs": false,
   "report_style_numbering": false,
   "user_envs_cfg": false
  },
  "toc": {
   "base_numbering": 1,
   "nav_menu": {},
   "number_sections": false,
   "sideBar": true,
   "skip_h1_title": false,
   "title_cell": "Table of Contents",
   "title_sidebar": "Contents",
   "toc_cell": false,
   "toc_position": {},
   "toc_section_display": true,
   "toc_window_display": false
  },
  "varInspector": {
   "cols": {
    "lenName": 16,
    "lenType": 16,
    "lenVar": 40
   },
   "kernels_config": {
    "python": {
     "delete_cmd_postfix": "",
     "delete_cmd_prefix": "del ",
     "library": "var_list.py",
     "varRefreshCmd": "print(var_dic_list())"
    },
    "r": {
     "delete_cmd_postfix": ") ",
     "delete_cmd_prefix": "rm(",
     "library": "var_list.r",
     "varRefreshCmd": "cat(var_dic_list()) "
    }
   },
   "types_to_exclude": [
    "module",
    "function",
    "builtin_function_or_method",
    "instance",
    "_Feature"
   ],
   "window_display": false
  }
 },
 "nbformat": 4,
 "nbformat_minor": 5
}
