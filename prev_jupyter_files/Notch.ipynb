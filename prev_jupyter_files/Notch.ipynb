{
 "cells": [
  {
   "cell_type": "code",
   "execution_count": 1,
   "metadata": {
    "ExecuteTime": {
     "end_time": "2021-06-01T03:55:38.289447Z",
     "start_time": "2021-06-01T03:55:31.862547Z"
    }
   },
   "outputs": [],
   "source": [
    "import pandas as pd\n",
    "import numpy as np\n",
    "import os\n",
    "from datetime import datetime\n",
    "from matplotlib import pyplot as plt\n",
    "\n",
    "from sklearn.model_selection import train_test_split\n",
    "from sklearn.metrics import confusion_matrix\n",
    "from sklearn.metrics import accuracy_score, f1_score, recall_score, precision_score\n",
    "from sklearn.preprocessing import StandardScaler, LabelEncoder\n",
    "\n",
    "import torch\n",
    "import torch.nn as nn\n",
    "from torch.nn import functional as F\n",
    "from torch.utils.tensorboard import SummaryWriter\n",
    "from torch.utils.data import DataLoader, random_split, TensorDataset\n",
    "\n",
    "%matplotlib inline"
   ]
  },
  {
   "cell_type": "code",
   "execution_count": 2,
   "metadata": {
    "ExecuteTime": {
     "end_time": "2021-06-01T03:55:38.324949Z",
     "start_time": "2021-06-01T03:55:38.292710Z"
    }
   },
   "outputs": [
    {
     "data": {
      "text/plain": [
       "'cuda:0'"
      ]
     },
     "execution_count": 2,
     "metadata": {},
     "output_type": "execute_result"
    }
   ],
   "source": [
    "np.random.seed(42)\n",
    "device = 'cuda:0' if torch.cuda.is_available() else 'cpu'\n",
    "device"
   ]
  },
  {
   "cell_type": "code",
   "execution_count": null,
   "metadata": {},
   "outputs": [],
   "source": [
    "data_dir = 'dataset/Notch_Dataset/'\n",
    "all_file_list = os.listdir(data_dir)\n",
    "file_list = []\n",
    "for file in all_file_list:\n",
    "    if file.endswith('csv'):\n",
    "        file_list.append(file)\n",
    "file_list = sorted(file_list)"
   ]
  },
  {
   "cell_type": "code",
   "execution_count": null,
   "metadata": {},
   "outputs": [],
   "source": [
    "train = pd.DataFrame()\n",
    "for i in range(5):\n",
    "    data = pd.read_csv(data_dir + file_list[i])\n",
    "    data['person_id'] = i+1\n",
    "    train = pd.concat([train, data])\n",
    "    \n",
    "valid = pd.read_csv(data_dir + file_list[5])\n",
    "valid['person_id'] = 6\n",
    "\n",
    "test = pd.read_csv(data_dir + file_list[6])\n",
    "test['person_id'] = 7"
   ]
  },
  {
   "cell_type": "code",
   "execution_count": null,
   "metadata": {},
   "outputs": [],
   "source": [
    "train_obs_scaler = StandardScaler()\n",
    "train_tar_scaler = StandardScaler()\n",
    "\n",
    "test_obs_scaler = StandardScaler()\n",
    "test_tar_scaler = StandardScaler()\n",
    "\n",
    "columns = ['Acc_x [m/s^2]', 'Acc_y [m/s^2]', 'Acc_z [m/s^2]', 'AnyFall', 'person_id']\n",
    "\n",
    "obs_train = train[['Acc_x [m/s^2]', 'Acc_y [m/s^2]', 'Acc_z [m/s^2]']]\n",
    "obs_train = train_obs_scaler.fit_transform(obs_train)\n",
    "tar_train = np.asarray(train['AnyFall'])\n",
    "tar_train = train_tar_scaler.fit_transform(tar_train.reshape(-1, 1))\n",
    "\n",
    "obs_train = pd.DataFrame(obs_train)\n",
    "tar_train = pd.DataFrame(tar_train)\n",
    "transformed_train = pd.concat([obs_train, tar_train], axis=1)\n",
    "transformed_train['per-id'] = train['person_id'].values\n",
    "transformed_train.columns = columns\n",
    "\n",
    "obs_valid = valid[['Acc_x [m/s^2]', 'Acc_y [m/s^2]', 'Acc_z [m/s^2]']]\n",
    "obs_valid = train_obs_scaler.fit_transform(obs_valid)\n",
    "tar_valid = np.asarray(valid['AnyFall'])\n",
    "tar_valid = train_tar_scaler.fit_transform(tar_valid.reshape(-1, 1))\n",
    "\n",
    "obs_valid = pd.DataFrame(obs_valid)\n",
    "tar_valid = pd.DataFrame(tar_valid)\n",
    "transformed_valid = pd.concat([obs_valid, tar_valid], axis=1)\n",
    "transformed_valid['per-id'] = valid['person_id'].values\n",
    "transformed_valid.columns = columns\n",
    "\n",
    "obs_test = test[['Acc_x [m/s^2]', 'Acc_y [m/s^2]', 'Acc_z [m/s^2]']]\n",
    "obs_test = test_obs_scaler.fit_transform(obs_test)\n",
    "tar_test = np.asarray(test['AnyFall'])\n",
    "tar_test = test_tar_scaler.fit_transform(tar_test.reshape(-1, 1))\n",
    "\n",
    "obs_test = pd.DataFrame(obs_test)\n",
    "tar_test = pd.DataFrame(tar_test)\n",
    "transformed_test = pd.concat([obs_test, tar_test], axis=1)\n",
    "transformed_test['per-id'] = test['person_id'].values\n",
    "transformed_test.columns = columns"
   ]
  },
  {
   "cell_type": "markdown",
   "metadata": {},
   "source": [
    "# Data processing"
   ]
  },
  {
   "cell_type": "code",
   "execution_count": 8,
   "metadata": {
    "ExecuteTime": {
     "end_time": "2021-06-01T03:55:38.776346Z",
     "start_time": "2021-06-01T03:55:38.770772Z"
    }
   },
   "outputs": [],
   "source": [
    "def dataProcessing(data):\n",
    "    X_data, y_data = list(), list()\n",
    "    for i in range(32, len(data) - 32):\n",
    "        acc_x = data['Acc_x [m/s^2]'][i-32: i]\n",
    "        acc_y = data['Acc_y [m/s^2]'][i-32: i]\n",
    "        acc_z = data['Acc_z [m/s^2]'][i-32: i]\n",
    "        X_data.append([acc_x.values, acc_y.values, acc_z.values])\n",
    "        \n",
    "        outcome = data['AnyFall'][i: i+32]\n",
    "        y_data.append([outcome.values])\n",
    "    return X_data, y_data"
   ]
  },
  {
   "cell_type": "code",
   "execution_count": 9,
   "metadata": {
    "ExecuteTime": {
     "end_time": "2021-06-01T03:55:51.802705Z",
     "start_time": "2021-06-01T03:55:38.784197Z"
    }
   },
   "outputs": [],
   "source": [
    "X_train, y_train = dataProcessing(transformed_train)\n",
    "X_valid, y_valid = dataProcessing(transformed_valid)\n",
    "X_test, y_test = dataProcessing(transformed_test)"
   ]
  },
  {
   "cell_type": "code",
   "execution_count": 10,
   "metadata": {
    "ExecuteTime": {
     "end_time": "2021-06-01T03:55:53.182614Z",
     "start_time": "2021-06-01T03:55:51.805134Z"
    }
   },
   "outputs": [],
   "source": [
    "batch_size = 64\n",
    "\n",
    "train_data = TensorDataset(torch.Tensor(X_train), torch.Tensor(y_train))\n",
    "train_loader = DataLoader(train_data, shuffle=False, batch_size=batch_size)\n",
    "\n",
    "valid_data = TensorDataset(torch.Tensor(X_valid), torch.Tensor(y_valid))\n",
    "valid_loader = DataLoader(valid_data, shuffle=False, batch_size=batch_size)\n",
    "\n",
    "test_data = TensorDataset(torch.Tensor(X_test), torch.Tensor(y_test))\n",
    "test_loader = DataLoader(test_data, shuffle=False, batch_size=1)"
   ]
  },
  {
   "cell_type": "markdown",
   "metadata": {},
   "source": [
    "# Model"
   ]
  },
  {
   "cell_type": "code",
   "execution_count": 11,
   "metadata": {
    "ExecuteTime": {
     "end_time": "2021-06-01T03:55:53.205204Z",
     "start_time": "2021-06-01T03:55:53.184699Z"
    }
   },
   "outputs": [],
   "source": [
    "from model.singleLSTM import singleLSTM\n",
    "from model.stackedLSTM import stackedLSTM\n",
    "from model.CNN import CNN"
   ]
  },
  {
   "cell_type": "code",
   "execution_count": 12,
   "metadata": {
    "ExecuteTime": {
     "end_time": "2021-06-01T03:55:53.214007Z",
     "start_time": "2021-06-01T03:55:53.206874Z"
    }
   },
   "outputs": [],
   "source": [
    "def choose_model(model_type):\n",
    "    if model_type == 'singleLSTM':\n",
    "        model = singleLSTM(3, 320, 32).cuda()\n",
    "        save_path = 'results/singleLSTM/'\n",
    "        save_file_name = save_path + 'SingleLSTMNotch.pth'\n",
    "    elif model_type == 'stackedLSTM':\n",
    "        model = stackedLSTM(3, 320, 32).cuda()\n",
    "        save_path = 'results/stackedLSTM/'\n",
    "        save_file_name = save_path + 'StackedLSTMNotch.pth'\n",
    "    elif model_type == 'CNN':\n",
    "        model = CNN(3, [8, 16, 64], 32).cuda()\n",
    "        save_path = 'results/CNN/'\n",
    "        save_file_name = save_path + 'CNNNotch.pth'\n",
    "    return model, save_path, save_file_name"
   ]
  },
  {
   "cell_type": "code",
   "execution_count": 13,
   "metadata": {
    "ExecuteTime": {
     "end_time": "2021-06-01T03:55:59.051318Z",
     "start_time": "2021-06-01T03:55:53.216684Z"
    }
   },
   "outputs": [
    {
     "name": "stdout",
     "output_type": "stream",
     "text": [
      "CNN(\n",
      "  (block1): Sequential(\n",
      "    (0): Conv1d(3, 8, kernel_size=(4,), stride=(1,), padding=(1,))\n",
      "    (1): ReLU()\n",
      "  )\n",
      "  (block2): Sequential(\n",
      "    (0): Conv1d(8, 16, kernel_size=(4,), stride=(1,), padding=(1,))\n",
      "    (1): ReLU()\n",
      "  )\n",
      "  (block3): Sequential(\n",
      "    (0): Conv1d(16, 64, kernel_size=(4,), stride=(1,), padding=(1,))\n",
      "    (1): ReLU()\n",
      "  )\n",
      "  (conv1): Conv1d(64, 32, kernel_size=(1,), stride=(1,))\n",
      ")\n"
     ]
    }
   ],
   "source": [
    "model_type = 'CNN'\n",
    "model, save_path, save_file_name = choose_model(model_type)\n",
    "print(model)"
   ]
  },
  {
   "cell_type": "code",
   "execution_count": 14,
   "metadata": {
    "ExecuteTime": {
     "end_time": "2021-06-01T03:55:59.080886Z",
     "start_time": "2021-06-01T03:55:59.061381Z"
    }
   },
   "outputs": [],
   "source": [
    "lr = 0.0001\n",
    "optimizer = torch.optim.Adam(model.parameters(), lr=lr)\n",
    "scheduler = torch.optim.lr_scheduler.ReduceLROnPlateau(optimizer=optimizer,\n",
    "                                                       mode='min',\n",
    "                                                       factor=0.2\n",
    "                                                    )\n",
    "criterion = nn.MSELoss().cuda()\n",
    "patience = 5\n",
    "n_epochs = 300"
   ]
  },
  {
   "cell_type": "code",
   "execution_count": 15,
   "metadata": {
    "ExecuteTime": {
     "end_time": "2021-06-01T03:55:59.333834Z",
     "start_time": "2021-06-01T03:55:59.085142Z"
    }
   },
   "outputs": [
    {
     "name": "stdout",
     "output_type": "stream",
     "text": [
      "X size torch.Size([64, 3, 32])\n",
      "y size torch.Size([64, 1, 32])\n",
      "torch.Size([64, 32, 1])\n"
     ]
    }
   ],
   "source": [
    "# example\n",
    "\n",
    "with torch.no_grad():\n",
    "    dataiter = iter(train_loader)\n",
    "    X, y = dataiter.next()\n",
    "    \n",
    "    ex_model = model\n",
    "    if model_type != 'CNN':\n",
    "        X = X.view(-1, 32, 3)\n",
    "    print('X size', X.shape)\n",
    "    print('y size', y.shape)\n",
    "    output = ex_model(X.cuda())\n",
    "    print(output.shape)"
   ]
  },
  {
   "cell_type": "code",
   "execution_count": 16,
   "metadata": {
    "ExecuteTime": {
     "end_time": "2021-06-01T03:55:59.357874Z",
     "start_time": "2021-06-01T03:55:59.336863Z"
    }
   },
   "outputs": [],
   "source": [
    "def fit(model, batch_size, n_epochs, save_file_name):\n",
    "    \n",
    "    train_losses = []\n",
    "    valid_losses = []\n",
    "    avg_train_losses = []\n",
    "    avg_valid_losses = [] \n",
    "    \n",
    "    best_loss = 9999999999\n",
    "    patience = 0\n",
    "    \n",
    "    for epoch in range(1, n_epochs + 1):\n",
    "\n",
    "        ###################\n",
    "        # train the model #\n",
    "        ###################\n",
    "        model.train()\n",
    "        for data, target in train_loader:\n",
    "            optimizer.zero_grad()\n",
    "            if model_type != 'CNN':\n",
    "                data, target = data.view(-1, 32, 3).cuda(), target.cuda()\n",
    "            else:\n",
    "                data, target = data.cuda(), target.cuda()\n",
    "            output = model(data)\n",
    "            if model_type != 'CNN':\n",
    "                loss = criterion(output, target.squeeze())\n",
    "            else:\n",
    "                loss = criterion(output.squeeze(), target.squeeze())\n",
    "            loss.backward()\n",
    "            optimizer.step()\n",
    "            train_losses.append(loss.item())\n",
    "\n",
    "        ######################    \n",
    "        # validate the model #\n",
    "        ######################\n",
    "        model.eval()\n",
    "        for data, target in valid_loader:\n",
    "            if model_type != 'CNN':\n",
    "                data, target = data.view(-1, 32, 3).cuda(), target.cuda()\n",
    "            else:\n",
    "                data, target = data.cuda(), target.cuda()\n",
    "            output = model(data.cuda())\n",
    "            if model_type != 'CNN':\n",
    "                loss = criterion(output, target.squeeze())\n",
    "            else:\n",
    "                loss = criterion(output.squeeze(), target.squeeze())\n",
    "            valid_losses.append(loss.item())\n",
    "\n",
    "        train_loss = np.average(train_losses)\n",
    "        valid_loss = np.average(valid_losses)\n",
    "        avg_train_losses.append(train_loss)\n",
    "        avg_valid_losses.append(valid_loss)\n",
    "            \n",
    "        epoch_len = len(str(n_epochs))\n",
    "        \n",
    "        print_msg = (f'[{epoch:>{epoch_len}}/{n_epochs:>{epoch_len}}] ' +\n",
    "                     f'train_loss: {train_loss:.5f} ' +\n",
    "                     f'valid_loss: {valid_loss:.5f}')\n",
    "        \n",
    "        print(print_msg)\n",
    "        \n",
    "        train_losses = []\n",
    "        valid_losses = []\n",
    "        \n",
    "        if valid_loss < best_loss:\n",
    "            best_loss = valid_loss\n",
    "            patience = 0\n",
    "            torch.save(model.state_dict(), save_file_name)\n",
    "            print('Saving Model')\n",
    "        else:\n",
    "            patience += 1\n",
    "            print('Patience for ', patience)\n",
    "        if patience == 10:\n",
    "            break\n",
    "\n",
    "    model.load_state_dict(torch.load(save_file_name))\n",
    "\n",
    "    return  model, avg_train_losses, avg_valid_losses"
   ]
  },
  {
   "cell_type": "code",
   "execution_count": 17,
   "metadata": {
    "ExecuteTime": {
     "end_time": "2021-06-01T03:58:32.575211Z",
     "start_time": "2021-06-01T03:55:59.359561Z"
    },
    "scrolled": true
   },
   "outputs": [
    {
     "name": "stdout",
     "output_type": "stream",
     "text": [
      "[  1/300] train_loss: 0.99403 valid_loss: 0.98454\n",
      "Saving Model\n",
      "[  2/300] train_loss: 0.95030 valid_loss: 0.96648\n",
      "Saving Model\n",
      "[  3/300] train_loss: 0.92263 valid_loss: 0.95911\n",
      "Saving Model\n",
      "[  4/300] train_loss: 0.90593 valid_loss: 0.95354\n",
      "Saving Model\n",
      "[  5/300] train_loss: 0.89319 valid_loss: 0.94799\n",
      "Saving Model\n",
      "[  6/300] train_loss: 0.88186 valid_loss: 0.94208\n",
      "Saving Model\n",
      "[  7/300] train_loss: 0.87151 valid_loss: 0.93652\n",
      "Saving Model\n",
      "[  8/300] train_loss: 0.86170 valid_loss: 0.93173\n",
      "Saving Model\n",
      "[ 15/300] train_loss: 0.79030 valid_loss: 0.92700\n",
      "Patience for  3\n",
      "[ 16/300] train_loss: 0.77960 valid_loss: 0.92913\n",
      "Patience for  4\n",
      "[ 17/300] train_loss: 0.76909 valid_loss: 0.93151\n",
      "Patience for  5\n",
      "[ 18/300] train_loss: 0.75874 valid_loss: 0.93435\n",
      "Patience for  6\n",
      "[ 19/300] train_loss: 0.74869 valid_loss: 0.93735\n",
      "Patience for  7\n",
      "[ 20/300] train_loss: 0.73891 valid_loss: 0.94071\n",
      "Patience for  8\n",
      "[ 21/300] train_loss: 0.72953 valid_loss: 0.94471\n",
      "Patience for  9\n",
      "[ 22/300] train_loss: 0.72068 valid_loss: 0.94909\n",
      "Patience for  10\n"
     ]
    }
   ],
   "source": [
    "model, train_loss, valid_loss = fit(model, batch_size, n_epochs, save_file_name)"
   ]
  },
  {
   "cell_type": "code",
   "execution_count": 18,
   "metadata": {
    "ExecuteTime": {
     "end_time": "2021-06-01T03:58:32.602893Z",
     "start_time": "2021-06-01T03:58:32.584352Z"
    }
   },
   "outputs": [],
   "source": [
    "def evaluate_model(model, test_loader):\n",
    "    test_loss = 0.0\n",
    "    y_test = []\n",
    "    y_hat = []\n",
    "    model.eval()\n",
    "    for data,target in test_loader:\n",
    "        if model_type != 'CNN':\n",
    "            data, target = data.view(-1, 32, 3).cuda(), target.cuda()\n",
    "        else:\n",
    "            data, target = data.cuda(), target.cuda()   \n",
    "        output = model(data.cuda())\n",
    "        loss = criterion(output.squeeze(), target.squeeze())\n",
    "        test_loss += loss.item()\n",
    "        y_test += list(target.squeeze().detach().cpu().numpy())\n",
    "        y_hat += list(output.squeeze().detach().cpu().numpy())\n",
    "        \n",
    "    return test_loss/len(test_loader), y_test, y_hat"
   ]
  },
  {
   "cell_type": "code",
   "execution_count": 19,
   "metadata": {
    "ExecuteTime": {
     "end_time": "2021-06-01T03:58:42.206892Z",
     "start_time": "2021-06-01T03:58:32.606355Z"
    }
   },
   "outputs": [],
   "source": [
    "test_loss, y_target, y_hat = evaluate_model(model, test_loader)"
   ]
  },
  {
   "cell_type": "code",
   "execution_count": 20,
   "metadata": {
    "ExecuteTime": {
     "end_time": "2021-06-01T03:58:42.285693Z",
     "start_time": "2021-06-01T03:58:42.209190Z"
    }
   },
   "outputs": [],
   "source": [
    "labels = test_tar_scaler.inverse_transform(y_target)\n",
    "predicted = test_tar_scaler.inverse_transform(y_hat)"
   ]
  },
  {
   "cell_type": "code",
   "execution_count": 21,
   "metadata": {
    "ExecuteTime": {
     "end_time": "2021-06-01T03:58:42.301247Z",
     "start_time": "2021-06-01T03:58:42.291360Z"
    }
   },
   "outputs": [
    {
     "data": {
      "text/plain": [
       "(338624, 338624)"
      ]
     },
     "execution_count": 21,
     "metadata": {},
     "output_type": "execute_result"
    }
   ],
   "source": [
    "len(y_target), len(y_hat)"
   ]
  },
  {
   "cell_type": "code",
   "execution_count": 22,
   "metadata": {
    "ExecuteTime": {
     "end_time": "2021-06-01T03:58:43.054937Z",
     "start_time": "2021-06-01T03:58:42.304018Z"
    }
   },
   "outputs": [],
   "source": [
    "corrected_labels = []\n",
    "for i in range(len(labels)):\n",
    "    if labels[i] != 1.0:\n",
    "        corrected_labels.append(0.0)\n",
    "    else:\n",
    "        corrected_labels.append(1.0)"
   ]
  },
  {
   "cell_type": "code",
   "execution_count": 23,
   "metadata": {
    "ExecuteTime": {
     "end_time": "2021-06-01T03:58:43.423515Z",
     "start_time": "2021-06-01T03:58:43.063404Z"
    }
   },
   "outputs": [],
   "source": [
    "from collections import Counter\n",
    "cnt_y_hat = Counter(predicted)\n",
    "\n",
    "thres = np.array(list(cnt_y_hat.keys())).mean()\n",
    "corrected_predicted = []\n",
    "for i in range(len(predicted)):\n",
    "    if predicted[i] < thres:\n",
    "        corrected_predicted.append(0.0)\n",
    "    else:\n",
    "        corrected_predicted.append(1.0)"
   ]
  },
  {
   "cell_type": "code",
   "execution_count": 24,
   "metadata": {
    "ExecuteTime": {
     "end_time": "2021-06-01T03:58:44.914350Z",
     "start_time": "2021-06-01T03:58:43.425957Z"
    }
   },
   "outputs": [
    {
     "name": "stdout",
     "output_type": "stream",
     "text": [
      "[[183930 121350]\n",
      " [ 17490  15854]]\n",
      "\n",
      "recall score is  0.4754678502879079\n",
      "precision score is  0.11555056703886184\n",
      "f1 score is  0.18591833384149914\n",
      "accuracy score is  0.589987714987715\n"
     ]
    }
   ],
   "source": [
    "print(confusion_matrix(corrected_labels, corrected_predicted))\n",
    "print()\n",
    "acc = accuracy_score(corrected_labels, corrected_predicted)\n",
    "f1 = f1_score(corrected_labels, corrected_predicted)\n",
    "recall = recall_score(corrected_labels, corrected_predicted)\n",
    "precision = precision_score(corrected_labels, corrected_predicted)\n",
    "\n",
    "print('recall score is ', recall)\n",
    "print('precision score is ', precision)\n",
    "print('f1 score is ', f1)\n",
    "print('accuracy score is ', acc)"
   ]
  },
  {
   "cell_type": "code",
   "execution_count": 25,
   "metadata": {
    "ExecuteTime": {
     "end_time": "2021-06-01T03:58:44.970290Z",
     "start_time": "2021-06-01T03:58:44.916673Z"
    }
   },
   "outputs": [],
   "source": [
    "result = pd.DataFrame([acc, precision, recall, f1]).T\n",
    "result.columns = ['Accuracy', 'Precision', 'Recall', 'F1']\n",
    "result.to_csv(save_path + 'CNNNotch.csv')"
   ]
  },
  {
   "cell_type": "code",
   "execution_count": 26,
   "metadata": {
    "ExecuteTime": {
     "end_time": "2021-06-01T03:58:45.104494Z",
     "start_time": "2021-06-01T03:58:44.972525Z"
    }
   },
   "outputs": [],
   "source": [
    "labels_32, predicted_32 = list(), list()\n",
    "for i in range(len(labels)):\n",
    "    if i % 32 == 0:\n",
    "        labels_32.append(labels[i])\n",
    "for i in range(len(predicted)):\n",
    "    if i % 32 == 0:\n",
    "        predicted_32.append(predicted[i])"
   ]
  },
  {
   "cell_type": "code",
   "execution_count": 27,
   "metadata": {
    "ExecuteTime": {
     "end_time": "2021-06-01T03:58:45.380692Z",
     "start_time": "2021-06-01T03:58:45.106758Z"
    }
   },
   "outputs": [
    {
     "data": {
      "image/png": "[encoded data removed]",
      "text/plain": [
       "<Figure size 720x360 with 1 Axes>"
      ]
     },
     "metadata": {
      "needs_background": "light"
     },
     "output_type": "display_data"
    },
    {
     "data": {
      "text/plain": [
       "<Figure size 432x288 with 0 Axes>"
      ]
     },
     "metadata": {},
     "output_type": "display_data"
    }
   ],
   "source": [
    "from matplotlib import pyplot as plt\n",
    "\n",
    "plt.figure(figsize=(10, 5))\n",
    "plt.plot(labels_32[600:1600], label='target', color='darkorange')\n",
    "plt.plot(predicted_32[600:1600], label='predicted', color='hotpink')\n",
    "plt.legend(loc='upper left', fontsize=15)\n",
    "plt.show()\n",
    "plt.savefig(save_path + 'CNNNotch.png')"
   ]
  },
  {
   "cell_type": "code",
   "execution_count": null,
   "metadata": {},
   "outputs": [],
   "source": []
  }
 ],
 "metadata": {
  "kernelspec": {
   "display_name": "Python 3",
   "language": "python",
   "name": "python3"
  },
  "language_info": {
   "codemirror_mode": {
    "name": "ipython",
    "version": 3
   },
   "file_extension": ".py",
   "mimetype": "text/x-python",
   "name": "python",
   "nbconvert_exporter": "python",
   "pygments_lexer": "ipython3",
   "version": "3.7.6"
  },
  "latex_envs": {
   "LaTeX_envs_menu_present": true,
   "autoclose": false,
   "autocomplete": true,
   "bibliofile": "biblio.bib",
   "cite_by": "apalike",
   "current_citInitial": 1,
   "eqLabelWithNumbers": true,
   "eqNumInitial": 1,
   "hotkeys": {
    "equation": "Ctrl-E",
    "itemize": "Ctrl-I"
   },
   "labels_anchors": false,
   "latex_user_defs": false,
   "report_style_numbering": false,
   "user_envs_cfg": false
  }
 },
 "nbformat": 4,
 "nbformat_minor": 5
}
