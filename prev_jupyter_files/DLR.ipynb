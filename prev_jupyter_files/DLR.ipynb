{
 "cells": [
  {
   "cell_type": "code",
   "execution_count": 1,
   "id": "89e7fe89",
   "metadata": {
    "ExecuteTime": {
     "end_time": "2022-04-05T01:32:57.995037Z",
     "start_time": "2022-04-05T01:32:56.686980Z"
    }
   },
   "outputs": [],
   "source": [
    "import pandas as pd\n",
    "import numpy as np\n",
    "import os\n",
    "import sys\n",
    "from datetime import datetime\n",
    "from matplotlib import pyplot as plt\n",
    "\n",
    "from sklearn.model_selection import train_test_split\n",
    "from sklearn.metrics import confusion_matrix\n",
    "from sklearn.metrics import accuracy_score, f1_score, recall_score, precision_score\n",
    "from sklearn.preprocessing import StandardScaler, LabelEncoder\n",
    "\n",
    "import torch\n",
    "import torch.nn as nn\n",
    "from torch.nn import functional as F\n",
    "from torch.utils.tensorboard import SummaryWriter\n",
    "from torch.utils.data import DataLoader, random_split, TensorDataset\n",
    "\n",
    "%matplotlib inline\n",
    "sys.path.append('/workspace/inkyung/Fall_Detection_using_multihorizon_forecasting/')"
   ]
  },
  {
   "cell_type": "code",
   "execution_count": 2,
   "id": "f3749c74",
   "metadata": {
    "ExecuteTime": {
     "end_time": "2022-04-05T01:32:58.879300Z",
     "start_time": "2022-04-05T01:32:58.834960Z"
    }
   },
   "outputs": [
    {
     "data": {
      "text/plain": [
       "'cuda:0'"
      ]
     },
     "execution_count": 2,
     "metadata": {},
     "output_type": "execute_result"
    }
   ],
   "source": [
    "np.random.seed(42)\n",
    "device = 'cuda:2' if torch.cuda.is_available() else 'cpu'\n",
    "device"
   ]
  },
  {
   "cell_type": "code",
   "execution_count": 3,
   "id": "af703314",
   "metadata": {
    "ExecuteTime": {
     "end_time": "2022-04-05T01:33:05.779864Z",
     "start_time": "2022-04-05T01:32:59.306203Z"
    }
   },
   "outputs": [
    {
     "name": "stderr",
     "output_type": "stream",
     "text": [
      "/opt/conda/envs/inkyung_tft/lib/python3.7/site-packages/numpy/lib/arraysetops.py:580: FutureWarning: elementwise comparison failed; returning scalar instead, but in the future will perform elementwise comparison\n",
      "  mask |= (ar1 == a)\n"
     ]
    }
   ],
   "source": [
    "data_dir = '../dataset/dlr_preprocessed/'\n",
    "train = pd.read_csv(data_dir + 'train.csv', index_col=0)\n",
    "valid = pd.read_csv(data_dir + 'valid.csv', index_col=0)\n",
    "test = pd.read_csv(data_dir + 'test.csv', index_col=0)"
   ]
  },
  {
   "cell_type": "code",
   "execution_count": 4,
   "id": "0e310b9e",
   "metadata": {
    "ExecuteTime": {
     "end_time": "2022-04-05T01:33:05.855509Z",
     "start_time": "2022-04-05T01:33:05.832542Z"
    }
   },
   "outputs": [
    {
     "data": {
      "text/html": [
       "<div>\n",
       "<style scoped>\n",
       "    .dataframe tbody tr th:only-of-type {\n",
       "        vertical-align: middle;\n",
       "    }\n",
       "\n",
       "    .dataframe tbody tr th {\n",
       "        vertical-align: top;\n",
       "    }\n",
       "\n",
       "    .dataframe thead th {\n",
       "        text-align: right;\n",
       "    }\n",
       "</style>\n",
       "<table border=\"1\" class=\"dataframe\">\n",
       "  <thead>\n",
       "    <tr style=\"text-align: right;\">\n",
       "      <th></th>\n",
       "      <th>time</th>\n",
       "      <th>acc_x</th>\n",
       "      <th>acc_y</th>\n",
       "      <th>acc_z</th>\n",
       "      <th>gyro_x</th>\n",
       "      <th>gyro_y</th>\n",
       "      <th>gyro_z</th>\n",
       "      <th>mag_x</th>\n",
       "      <th>mag_y</th>\n",
       "      <th>mag_z</th>\n",
       "      <th>labels</th>\n",
       "      <th>per_name</th>\n",
       "      <th>per_idx</th>\n",
       "      <th>per_age</th>\n",
       "      <th>per_height</th>\n",
       "      <th>per_gender</th>\n",
       "    </tr>\n",
       "  </thead>\n",
       "  <tbody>\n",
       "    <tr>\n",
       "      <th>0</th>\n",
       "      <td>17.15</td>\n",
       "      <td>-9.702358</td>\n",
       "      <td>0.020635</td>\n",
       "      <td>1.674165</td>\n",
       "      <td>0.013820</td>\n",
       "      <td>-0.013123</td>\n",
       "      <td>0.016836</td>\n",
       "      <td>1.273326</td>\n",
       "      <td>0.392144</td>\n",
       "      <td>0.312653</td>\n",
       "      <td>STNDING</td>\n",
       "      <td>Korbinian</td>\n",
       "      <td>8</td>\n",
       "      <td>29.0</td>\n",
       "      <td>1.65</td>\n",
       "      <td>Male</td>\n",
       "    </tr>\n",
       "    <tr>\n",
       "      <th>1</th>\n",
       "      <td>17.16</td>\n",
       "      <td>-9.707232</td>\n",
       "      <td>0.025566</td>\n",
       "      <td>1.666926</td>\n",
       "      <td>0.004869</td>\n",
       "      <td>-0.003397</td>\n",
       "      <td>0.015052</td>\n",
       "      <td>1.267351</td>\n",
       "      <td>0.391066</td>\n",
       "      <td>0.307638</td>\n",
       "      <td>STNDING</td>\n",
       "      <td>Korbinian</td>\n",
       "      <td>8</td>\n",
       "      <td>29.0</td>\n",
       "      <td>1.65</td>\n",
       "      <td>Male</td>\n",
       "    </tr>\n",
       "    <tr>\n",
       "      <th>2</th>\n",
       "      <td>17.17</td>\n",
       "      <td>-9.702337</td>\n",
       "      <td>0.011063</td>\n",
       "      <td>1.664216</td>\n",
       "      <td>-0.014894</td>\n",
       "      <td>-0.007078</td>\n",
       "      <td>0.016662</td>\n",
       "      <td>1.270401</td>\n",
       "      <td>0.394067</td>\n",
       "      <td>0.311236</td>\n",
       "      <td>STNDING</td>\n",
       "      <td>Korbinian</td>\n",
       "      <td>8</td>\n",
       "      <td>29.0</td>\n",
       "      <td>1.65</td>\n",
       "      <td>Male</td>\n",
       "    </tr>\n",
       "    <tr>\n",
       "      <th>3</th>\n",
       "      <td>17.18</td>\n",
       "      <td>-9.692591</td>\n",
       "      <td>0.020641</td>\n",
       "      <td>1.671842</td>\n",
       "      <td>-0.007739</td>\n",
       "      <td>-0.015927</td>\n",
       "      <td>0.018439</td>\n",
       "      <td>1.270320</td>\n",
       "      <td>0.389785</td>\n",
       "      <td>0.311519</td>\n",
       "      <td>STNDING</td>\n",
       "      <td>Korbinian</td>\n",
       "      <td>8</td>\n",
       "      <td>29.0</td>\n",
       "      <td>1.65</td>\n",
       "      <td>Male</td>\n",
       "    </tr>\n",
       "    <tr>\n",
       "      <th>4</th>\n",
       "      <td>17.19</td>\n",
       "      <td>-9.680356</td>\n",
       "      <td>-0.003477</td>\n",
       "      <td>1.661697</td>\n",
       "      <td>-0.005921</td>\n",
       "      <td>0.001813</td>\n",
       "      <td>0.018580</td>\n",
       "      <td>1.271230</td>\n",
       "      <td>0.391007</td>\n",
       "      <td>0.312000</td>\n",
       "      <td>STNDING</td>\n",
       "      <td>Korbinian</td>\n",
       "      <td>8</td>\n",
       "      <td>29.0</td>\n",
       "      <td>1.65</td>\n",
       "      <td>Male</td>\n",
       "    </tr>\n",
       "  </tbody>\n",
       "</table>\n",
       "</div>"
      ],
      "text/plain": [
       "    time     acc_x     acc_y     acc_z    gyro_x    gyro_y    gyro_z  \\\n",
       "0  17.15 -9.702358  0.020635  1.674165  0.013820 -0.013123  0.016836   \n",
       "1  17.16 -9.707232  0.025566  1.666926  0.004869 -0.003397  0.015052   \n",
       "2  17.17 -9.702337  0.011063  1.664216 -0.014894 -0.007078  0.016662   \n",
       "3  17.18 -9.692591  0.020641  1.671842 -0.007739 -0.015927  0.018439   \n",
       "4  17.19 -9.680356 -0.003477  1.661697 -0.005921  0.001813  0.018580   \n",
       "\n",
       "      mag_x     mag_y     mag_z   labels   per_name  per_idx  per_age  \\\n",
       "0  1.273326  0.392144  0.312653  STNDING  Korbinian        8     29.0   \n",
       "1  1.267351  0.391066  0.307638  STNDING  Korbinian        8     29.0   \n",
       "2  1.270401  0.394067  0.311236  STNDING  Korbinian        8     29.0   \n",
       "3  1.270320  0.389785  0.311519  STNDING  Korbinian        8     29.0   \n",
       "4  1.271230  0.391007  0.312000  STNDING  Korbinian        8     29.0   \n",
       "\n",
       "   per_height per_gender  \n",
       "0        1.65       Male  \n",
       "1        1.65       Male  \n",
       "2        1.65       Male  \n",
       "3        1.65       Male  \n",
       "4        1.65       Male  "
      ]
     },
     "execution_count": 4,
     "metadata": {},
     "output_type": "execute_result"
    }
   ],
   "source": [
    "train.head()"
   ]
  },
  {
   "cell_type": "code",
   "execution_count": 5,
   "id": "17a968ba",
   "metadata": {
    "ExecuteTime": {
     "end_time": "2022-04-05T01:33:05.907359Z",
     "start_time": "2022-04-05T01:33:05.904192Z"
    }
   },
   "outputs": [],
   "source": [
    "activity_info = ['FALLING', 'JUMPING', 'RUNNING', 'SITTING', 'STNDING', 'TRANSDW', 'TRANSUP', 'TRNSACC', 'TRNSDCC', 'WALKING', 'XLYINGX']"
   ]
  },
  {
   "cell_type": "code",
   "execution_count": 6,
   "id": "38057562",
   "metadata": {
    "ExecuteTime": {
     "end_time": "2022-04-05T01:33:06.954083Z",
     "start_time": "2022-04-05T01:33:05.954684Z"
    }
   },
   "outputs": [],
   "source": [
    "from sklearn.preprocessing import LabelEncoder\n",
    "\n",
    "encoder = LabelEncoder()\n",
    "encoder.fit(activity_info)\n",
    "\n",
    "train_encoded = encoder.transform(train['labels'])\n",
    "train['label_encoded'] = train_encoded\n",
    "\n",
    "valid_encoded = encoder.transform(valid['labels'])\n",
    "valid['label_encoded'] = valid_encoded\n",
    "\n",
    "test_encoded = encoder.transform(test['labels'])\n",
    "test['label_encoded'] = test_encoded"
   ]
  },
  {
   "cell_type": "code",
   "execution_count": 7,
   "id": "309e9d07",
   "metadata": {
    "ExecuteTime": {
     "end_time": "2022-04-05T01:33:07.027125Z",
     "start_time": "2022-04-05T01:33:07.004468Z"
    }
   },
   "outputs": [
    {
     "data": {
      "text/html": [
       "<div>\n",
       "<style scoped>\n",
       "    .dataframe tbody tr th:only-of-type {\n",
       "        vertical-align: middle;\n",
       "    }\n",
       "\n",
       "    .dataframe tbody tr th {\n",
       "        vertical-align: top;\n",
       "    }\n",
       "\n",
       "    .dataframe thead th {\n",
       "        text-align: right;\n",
       "    }\n",
       "</style>\n",
       "<table border=\"1\" class=\"dataframe\">\n",
       "  <thead>\n",
       "    <tr style=\"text-align: right;\">\n",
       "      <th></th>\n",
       "      <th>time</th>\n",
       "      <th>acc_x</th>\n",
       "      <th>acc_y</th>\n",
       "      <th>acc_z</th>\n",
       "      <th>gyro_x</th>\n",
       "      <th>gyro_y</th>\n",
       "      <th>gyro_z</th>\n",
       "      <th>mag_x</th>\n",
       "      <th>mag_y</th>\n",
       "      <th>mag_z</th>\n",
       "      <th>labels</th>\n",
       "      <th>per_name</th>\n",
       "      <th>per_idx</th>\n",
       "      <th>per_age</th>\n",
       "      <th>per_height</th>\n",
       "      <th>per_gender</th>\n",
       "      <th>label_encoded</th>\n",
       "    </tr>\n",
       "  </thead>\n",
       "  <tbody>\n",
       "    <tr>\n",
       "      <th>0</th>\n",
       "      <td>13.49</td>\n",
       "      <td>-9.420184</td>\n",
       "      <td>1.458564</td>\n",
       "      <td>2.357733</td>\n",
       "      <td>-0.009265</td>\n",
       "      <td>-0.008148</td>\n",
       "      <td>0.012368</td>\n",
       "      <td>1.100023</td>\n",
       "      <td>-0.140067</td>\n",
       "      <td>-0.699308</td>\n",
       "      <td>STNDING</td>\n",
       "      <td>Christine</td>\n",
       "      <td>5</td>\n",
       "      <td>52.0</td>\n",
       "      <td>1.64</td>\n",
       "      <td>Female</td>\n",
       "      <td>4</td>\n",
       "    </tr>\n",
       "    <tr>\n",
       "      <th>1</th>\n",
       "      <td>13.50</td>\n",
       "      <td>-9.447023</td>\n",
       "      <td>1.444128</td>\n",
       "      <td>2.354667</td>\n",
       "      <td>-0.002922</td>\n",
       "      <td>-0.002704</td>\n",
       "      <td>0.006194</td>\n",
       "      <td>1.107744</td>\n",
       "      <td>-0.140104</td>\n",
       "      <td>-0.701840</td>\n",
       "      <td>STNDING</td>\n",
       "      <td>Christine</td>\n",
       "      <td>5</td>\n",
       "      <td>52.0</td>\n",
       "      <td>1.64</td>\n",
       "      <td>Female</td>\n",
       "      <td>4</td>\n",
       "    </tr>\n",
       "    <tr>\n",
       "      <th>2</th>\n",
       "      <td>13.51</td>\n",
       "      <td>-9.451902</td>\n",
       "      <td>1.444166</td>\n",
       "      <td>2.352181</td>\n",
       "      <td>-0.000207</td>\n",
       "      <td>0.011504</td>\n",
       "      <td>0.005428</td>\n",
       "      <td>1.099453</td>\n",
       "      <td>-0.140534</td>\n",
       "      <td>-0.696114</td>\n",
       "      <td>STNDING</td>\n",
       "      <td>Christine</td>\n",
       "      <td>5</td>\n",
       "      <td>52.0</td>\n",
       "      <td>1.64</td>\n",
       "      <td>Female</td>\n",
       "      <td>4</td>\n",
       "    </tr>\n",
       "    <tr>\n",
       "      <th>3</th>\n",
       "      <td>13.52</td>\n",
       "      <td>-9.459247</td>\n",
       "      <td>1.465909</td>\n",
       "      <td>2.357463</td>\n",
       "      <td>-0.003803</td>\n",
       "      <td>-0.004444</td>\n",
       "      <td>0.003493</td>\n",
       "      <td>1.106179</td>\n",
       "      <td>-0.143121</td>\n",
       "      <td>-0.698918</td>\n",
       "      <td>STNDING</td>\n",
       "      <td>Christine</td>\n",
       "      <td>5</td>\n",
       "      <td>52.0</td>\n",
       "      <td>1.64</td>\n",
       "      <td>Female</td>\n",
       "      <td>4</td>\n",
       "    </tr>\n",
       "    <tr>\n",
       "      <th>4</th>\n",
       "      <td>13.53</td>\n",
       "      <td>-9.437350</td>\n",
       "      <td>1.477480</td>\n",
       "      <td>2.401761</td>\n",
       "      <td>0.006994</td>\n",
       "      <td>0.008050</td>\n",
       "      <td>0.001872</td>\n",
       "      <td>1.099500</td>\n",
       "      <td>-0.141625</td>\n",
       "      <td>-0.697040</td>\n",
       "      <td>STNDING</td>\n",
       "      <td>Christine</td>\n",
       "      <td>5</td>\n",
       "      <td>52.0</td>\n",
       "      <td>1.64</td>\n",
       "      <td>Female</td>\n",
       "      <td>4</td>\n",
       "    </tr>\n",
       "  </tbody>\n",
       "</table>\n",
       "</div>"
      ],
      "text/plain": [
       "    time     acc_x     acc_y     acc_z    gyro_x    gyro_y    gyro_z  \\\n",
       "0  13.49 -9.420184  1.458564  2.357733 -0.009265 -0.008148  0.012368   \n",
       "1  13.50 -9.447023  1.444128  2.354667 -0.002922 -0.002704  0.006194   \n",
       "2  13.51 -9.451902  1.444166  2.352181 -0.000207  0.011504  0.005428   \n",
       "3  13.52 -9.459247  1.465909  2.357463 -0.003803 -0.004444  0.003493   \n",
       "4  13.53 -9.437350  1.477480  2.401761  0.006994  0.008050  0.001872   \n",
       "\n",
       "      mag_x     mag_y     mag_z   labels   per_name  per_idx  per_age  \\\n",
       "0  1.100023 -0.140067 -0.699308  STNDING  Christine        5     52.0   \n",
       "1  1.107744 -0.140104 -0.701840  STNDING  Christine        5     52.0   \n",
       "2  1.099453 -0.140534 -0.696114  STNDING  Christine        5     52.0   \n",
       "3  1.106179 -0.143121 -0.698918  STNDING  Christine        5     52.0   \n",
       "4  1.099500 -0.141625 -0.697040  STNDING  Christine        5     52.0   \n",
       "\n",
       "   per_height per_gender  label_encoded  \n",
       "0        1.64     Female              4  \n",
       "1        1.64     Female              4  \n",
       "2        1.64     Female              4  \n",
       "3        1.64     Female              4  \n",
       "4        1.64     Female              4  "
      ]
     },
     "execution_count": 7,
     "metadata": {},
     "output_type": "execute_result"
    }
   ],
   "source": [
    "valid.head()"
   ]
  },
  {
   "cell_type": "code",
   "execution_count": 8,
   "id": "c4a3c3d6",
   "metadata": {
    "ExecuteTime": {
     "end_time": "2022-04-05T01:33:07.555169Z",
     "start_time": "2022-04-05T01:33:07.079015Z"
    },
    "scrolled": true
   },
   "outputs": [
    {
     "data": {
      "text/html": [
       "<div>\n",
       "<style scoped>\n",
       "    .dataframe tbody tr th:only-of-type {\n",
       "        vertical-align: middle;\n",
       "    }\n",
       "\n",
       "    .dataframe tbody tr th {\n",
       "        vertical-align: top;\n",
       "    }\n",
       "\n",
       "    .dataframe thead th {\n",
       "        text-align: right;\n",
       "    }\n",
       "</style>\n",
       "<table border=\"1\" class=\"dataframe\">\n",
       "  <thead>\n",
       "    <tr style=\"text-align: right;\">\n",
       "      <th></th>\n",
       "      <th>acc_x</th>\n",
       "      <th>acc_y</th>\n",
       "      <th>acc_z</th>\n",
       "      <th>gyro_x</th>\n",
       "      <th>gyro_y</th>\n",
       "      <th>gyro_z</th>\n",
       "      <th>label</th>\n",
       "      <th>per_idx</th>\n",
       "    </tr>\n",
       "  </thead>\n",
       "  <tbody>\n",
       "    <tr>\n",
       "      <th>0</th>\n",
       "      <td>-0.068564</td>\n",
       "      <td>-0.706866</td>\n",
       "      <td>0.021258</td>\n",
       "      <td>0.003836</td>\n",
       "      <td>-0.013402</td>\n",
       "      <td>0.012842</td>\n",
       "      <td>-0.723538</td>\n",
       "      <td>2</td>\n",
       "    </tr>\n",
       "    <tr>\n",
       "      <th>1</th>\n",
       "      <td>-0.069641</td>\n",
       "      <td>-0.704326</td>\n",
       "      <td>0.018191</td>\n",
       "      <td>-0.011038</td>\n",
       "      <td>0.003577</td>\n",
       "      <td>0.008124</td>\n",
       "      <td>-0.723538</td>\n",
       "      <td>2</td>\n",
       "    </tr>\n",
       "    <tr>\n",
       "      <th>2</th>\n",
       "      <td>-0.068559</td>\n",
       "      <td>-0.711797</td>\n",
       "      <td>0.017042</td>\n",
       "      <td>-0.043876</td>\n",
       "      <td>-0.002850</td>\n",
       "      <td>0.012381</td>\n",
       "      <td>-0.723538</td>\n",
       "      <td>2</td>\n",
       "    </tr>\n",
       "    <tr>\n",
       "      <th>3</th>\n",
       "      <td>-0.066406</td>\n",
       "      <td>-0.706863</td>\n",
       "      <td>0.020274</td>\n",
       "      <td>-0.031988</td>\n",
       "      <td>-0.018298</td>\n",
       "      <td>0.017080</td>\n",
       "      <td>-0.723538</td>\n",
       "      <td>2</td>\n",
       "    </tr>\n",
       "    <tr>\n",
       "      <th>4</th>\n",
       "      <td>-0.063703</td>\n",
       "      <td>-0.719287</td>\n",
       "      <td>0.015975</td>\n",
       "      <td>-0.028967</td>\n",
       "      <td>0.012671</td>\n",
       "      <td>0.017453</td>\n",
       "      <td>-0.723538</td>\n",
       "      <td>2</td>\n",
       "    </tr>\n",
       "  </tbody>\n",
       "</table>\n",
       "</div>"
      ],
      "text/plain": [
       "      acc_x     acc_y     acc_z    gyro_x    gyro_y    gyro_z     label  \\\n",
       "0 -0.068564 -0.706866  0.021258  0.003836 -0.013402  0.012842 -0.723538   \n",
       "1 -0.069641 -0.704326  0.018191 -0.011038  0.003577  0.008124 -0.723538   \n",
       "2 -0.068559 -0.711797  0.017042 -0.043876 -0.002850  0.012381 -0.723538   \n",
       "3 -0.066406 -0.706863  0.020274 -0.031988 -0.018298  0.017080 -0.723538   \n",
       "4 -0.063703 -0.719287  0.015975 -0.028967  0.012671  0.017453 -0.723538   \n",
       "\n",
       "   per_idx  \n",
       "0        2  \n",
       "1        2  \n",
       "2        2  \n",
       "3        2  \n",
       "4        2  "
      ]
     },
     "execution_count": 8,
     "metadata": {},
     "output_type": "execute_result"
    }
   ],
   "source": [
    "train_obs_scaler = StandardScaler()\n",
    "train_tar_scaler = StandardScaler()\n",
    "\n",
    "test_obs_scaler = StandardScaler()\n",
    "test_tar_scaler = StandardScaler()\n",
    "\n",
    "columns = ['acc_x', 'acc_y', 'acc_z', 'gyro_x', 'gyro_y', 'gyro_z','label', 'per_idx']\n",
    "\n",
    "obs_train = train[['acc_x', 'acc_y', 'acc_z', 'gyro_x', 'gyro_y', 'gyro_z']]\n",
    "obs_train = train_obs_scaler.fit_transform(obs_train)\n",
    "tar_train = np.asarray(train['label_encoded'])\n",
    "tar_train = train_tar_scaler.fit_transform(tar_train.reshape(-1, 1))\n",
    "\n",
    "obs_train = pd.DataFrame(obs_train)\n",
    "tar_train = pd.DataFrame(tar_train)\n",
    "transformed_train = pd.concat([obs_train, tar_train], axis=1)\n",
    "transformed_train['per_idx'] = train['per_idx'].values\n",
    "transformed_train.columns = columns\n",
    "transformed_train.head()\n",
    "\n",
    "obs_valid = valid[['acc_x', 'acc_y', 'acc_z', 'gyro_x', 'gyro_y', 'gyro_z']]\n",
    "obs_valid = train_obs_scaler.fit_transform(obs_valid)\n",
    "tar_valid = np.asarray(valid['label_encoded'])\n",
    "tar_valid = train_tar_scaler.fit_transform(tar_valid.reshape(-1, 1))\n",
    "\n",
    "obs_valid = pd.DataFrame(obs_valid)\n",
    "tar_valid = pd.DataFrame(tar_valid)\n",
    "transformed_valid = pd.concat([obs_valid, tar_valid], axis=1)\n",
    "transformed_valid['per_idx'] = valid['per_idx'].values\n",
    "transformed_valid.columns = columns\n",
    "# transformed_valid.head()\n",
    "\n",
    "obs_test = test[['acc_x', 'acc_y', 'acc_z', 'gyro_x', 'gyro_y', 'gyro_z']]\n",
    "obs_test = test_obs_scaler.fit_transform(obs_test)\n",
    "tar_test = np.asarray(test['label_encoded'])\n",
    "tar_test = test_tar_scaler.fit_transform(tar_test.reshape(-1, 1))\n",
    "\n",
    "obs_test = pd.DataFrame(obs_test)\n",
    "tar_test = pd.DataFrame(tar_test)\n",
    "transformed_test = pd.concat([obs_test, tar_test], axis=1)\n",
    "transformed_test['per_idx'] = test['per_idx'].values\n",
    "transformed_test.columns = columns\n",
    "transformed_test.head()"
   ]
  },
  {
   "cell_type": "markdown",
   "id": "1a089164",
   "metadata": {},
   "source": [
    "# Data processing"
   ]
  },
  {
   "cell_type": "code",
   "execution_count": 9,
   "id": "5605b407",
   "metadata": {
    "ExecuteTime": {
     "end_time": "2022-04-05T01:33:07.667429Z",
     "start_time": "2022-04-05T01:33:07.659748Z"
    }
   },
   "outputs": [],
   "source": [
    "def dataProcessing(data):\n",
    "    X_data, y_data = list(), list()\n",
    "    for i in range(100, len(data) - 100):\n",
    "        acc_x = data['acc_x'][i-100: i]\n",
    "        acc_y = data['acc_y'][i-100: i]\n",
    "        acc_z = data['acc_z'][i-100: i]\n",
    "        gyro_x = data['gyro_x'][i-100: i]\n",
    "        gyro_y = data['gyro_y'][i-100: i]\n",
    "        gyro_z = data['gyro_z'][i-100: i]\n",
    "        X_data.append([acc_x.values, acc_y.values, acc_z.values, gyro_x.values, gyro_y.values, gyro_z.values])\n",
    "        \n",
    "        outcome = data['label'][i: i+100]\n",
    "        y_data.append([outcome.values])\n",
    "    return X_data, y_data"
   ]
  },
  {
   "cell_type": "code",
   "execution_count": 10,
   "id": "efc31a02",
   "metadata": {
    "ExecuteTime": {
     "end_time": "2022-04-05T01:53:03.308154Z",
     "start_time": "2022-04-05T01:33:07.766193Z"
    }
   },
   "outputs": [],
   "source": [
    "X_train, y_train = dataProcessing(transformed_train)\n",
    "X_valid, y_valid = dataProcessing(transformed_valid)\n",
    "X_test, y_test = dataProcessing(transformed_test)"
   ]
  },
  {
   "cell_type": "code",
   "execution_count": 15,
   "id": "7bf46249",
   "metadata": {
    "ExecuteTime": {
     "end_time": "2022-04-05T03:21:44.091003Z",
     "start_time": "2022-04-05T03:13:52.321582Z"
    }
   },
   "outputs": [],
   "source": [
    "batch_size = 128\n",
    "\n",
    "train_data = TensorDataset(torch.Tensor(X_train), torch.Tensor(y_train))\n",
    "train_loader = DataLoader(train_data, shuffle=False, batch_size=batch_size)\n",
    "\n",
    "valid_data = TensorDataset(torch.Tensor(X_valid), torch.Tensor(y_valid))\n",
    "valid_loader = DataLoader(valid_data, shuffle=False, batch_size=batch_size)\n",
    "\n",
    "test_data = TensorDataset(torch.Tensor(X_test), torch.Tensor(y_test))\n",
    "test_loader = DataLoader(test_data, shuffle=False, batch_size=1)"
   ]
  },
  {
   "cell_type": "markdown",
   "id": "96588748",
   "metadata": {},
   "source": [
    "# Model"
   ]
  },
  {
   "cell_type": "code",
   "execution_count": 16,
   "id": "fb577931",
   "metadata": {
    "ExecuteTime": {
     "end_time": "2022-04-05T03:21:50.378965Z",
     "start_time": "2022-04-05T03:21:50.371535Z"
    }
   },
   "outputs": [],
   "source": [
    "from model.CNN import CNN\n",
    "from model.LSTM import LSTM"
   ]
  },
  {
   "cell_type": "code",
   "execution_count": 17,
   "id": "8412ab42",
   "metadata": {
    "ExecuteTime": {
     "end_time": "2022-04-05T03:21:56.645655Z",
     "start_time": "2022-04-05T03:21:56.634155Z"
    }
   },
   "outputs": [],
   "source": [
    "def choose_model(model_type):\n",
    "    if model_type == 'SingleLSTM':\n",
    "        model = LSTM(6, 320, 100, 1).to(device)\n",
    "        save_path = '../results/singleLSTM/'\n",
    "    elif model_type == 'StackedLSTM':\n",
    "        model = LSTM(6, 320, 100, 2).to(device)\n",
    "        save_path = '../results/stackedLSTM/'\n",
    "    elif model_type == 'CNN':\n",
    "        model = CNN(6, [80, 160, 320], 100).to(device)\n",
    "        save_path = '../results/CNN/'\n",
    "    save_file_name = save_path + f'{model_type}DLR.pth'\n",
    "    return model, save_path, save_file_name"
   ]
  },
  {
   "cell_type": "code",
   "execution_count": 42,
   "id": "919193cf",
   "metadata": {
    "ExecuteTime": {
     "end_time": "2022-04-05T06:41:31.309575Z",
     "start_time": "2022-04-05T06:41:31.294606Z"
    }
   },
   "outputs": [
    {
     "name": "stdout",
     "output_type": "stream",
     "text": [
      "LSTM(\n",
      "  (lstm): LSTM(6, 320, batch_first=True)\n",
      "  (bn): BatchNorm1d(320, eps=1e-05, momentum=0.1, affine=True, track_running_stats=True)\n",
      "  (fc): Linear(in_features=320, out_features=100, bias=True)\n",
      ")\n"
     ]
    }
   ],
   "source": [
    "model_type = 'SingleLSTM'\n",
    "model, save_path, save_file_name = choose_model(model_type)\n",
    "print(model)"
   ]
  },
  {
   "cell_type": "code",
   "execution_count": 19,
   "id": "7f8356b3",
   "metadata": {
    "ExecuteTime": {
     "end_time": "2022-04-05T03:22:12.642308Z",
     "start_time": "2022-04-05T03:22:12.632745Z"
    }
   },
   "outputs": [],
   "source": [
    "lr = 0.0001\n",
    "optimizer = torch.optim.Adam(model.parameters(), lr=lr)\n",
    "scheduler = torch.optim.lr_scheduler.ReduceLROnPlateau(optimizer=optimizer,\n",
    "                                                       mode='min',\n",
    "                                                       factor=0.2\n",
    "                                                    )\n",
    "criterion = nn.MSELoss().to(device)\n",
    "patience = 5\n",
    "n_epochs = 300"
   ]
  },
  {
   "cell_type": "code",
   "execution_count": 18,
   "id": "7581b995",
   "metadata": {
    "ExecuteTime": {
     "end_time": "2021-06-07T06:39:19.083986Z",
     "start_time": "2021-06-07T06:39:18.834108Z"
    }
   },
   "outputs": [
    {
     "name": "stdout",
     "output_type": "stream",
     "text": [
      "X size torch.Size([128, 100, 6])\n",
      "y size torch.Size([128, 1, 100])\n",
      "torch.Size([128, 100])\n"
     ]
    }
   ],
   "source": [
    "# example\n",
    "\n",
    "with torch.no_grad():\n",
    "    dataiter = iter(train_loader)\n",
    "    X, y = dataiter.next()\n",
    "    \n",
    "    ex_model = model\n",
    "    if model_type != 'CNN':\n",
    "        X = X.view(-1, 100, 6)\n",
    "    print('X size', X.shape)\n",
    "    print('y size', y.shape)\n",
    "    output = ex_model(X.to(device))\n",
    "    print(output.shape)"
   ]
  },
  {
   "cell_type": "code",
   "execution_count": 19,
   "id": "b69a14c3",
   "metadata": {
    "ExecuteTime": {
     "end_time": "2021-06-07T06:39:19.130475Z",
     "start_time": "2021-06-07T06:39:19.089456Z"
    }
   },
   "outputs": [],
   "source": [
    "def fit(model, batch_size, n_epochs, save_file_name):\n",
    "    \n",
    "    train_losses = []\n",
    "    valid_losses = []\n",
    "    avg_train_losses = []\n",
    "    avg_valid_losses = [] \n",
    "    \n",
    "    best_loss = 9999999999\n",
    "    patience = 0\n",
    "    \n",
    "    for epoch in range(1, n_epochs + 1):\n",
    "\n",
    "        ###################\n",
    "        # train the model #\n",
    "        ###################\n",
    "        model.train()\n",
    "        for data, target in train_loader:\n",
    "            optimizer.zero_grad()\n",
    "            if model_type != 'CNN':\n",
    "                data, target = data.view(-1, 100, 6).to(device), target.to(device)\n",
    "            else:\n",
    "                data, target = data.to(device), target.to(device)\n",
    "            output = model(data)\n",
    "            if model_type != 'CNN':\n",
    "                loss = criterion(output, target.squeeze())\n",
    "            else:\n",
    "                loss = criterion(output.squeeze(), target.squeeze())\n",
    "            loss.backward()\n",
    "            optimizer.step()\n",
    "            train_losses.append(loss.item())\n",
    "\n",
    "        ######################    \n",
    "        # validate the model #\n",
    "        ######################\n",
    "        model.eval()\n",
    "        for data, target in valid_loader:\n",
    "            if model_type != 'CNN':\n",
    "                data, target = data.view(-1, 100, 6).to(device), target.to(device)\n",
    "            else:\n",
    "                data, target = data.to(device), target.to(device)\n",
    "            output = model(data.cuda())\n",
    "            if model_type != 'CNN':\n",
    "                loss = criterion(output, target.squeeze())\n",
    "            else:\n",
    "                loss = criterion(output.squeeze(), target.squeeze())\n",
    "            valid_losses.append(loss.item())\n",
    "\n",
    "        train_loss = np.average(train_losses)\n",
    "        valid_loss = np.average(valid_losses)\n",
    "        avg_train_losses.append(train_loss)\n",
    "        avg_valid_losses.append(valid_loss)\n",
    "            \n",
    "        epoch_len = len(str(n_epochs))\n",
    "        \n",
    "        print_msg = (f'[{epoch:>{epoch_len}}/{n_epochs:>{epoch_len}}] ' +\n",
    "                     f'train_loss: {train_loss:.5f} ' +\n",
    "                     f'valid_loss: {valid_loss:.5f}')\n",
    "        \n",
    "        print(print_msg)\n",
    "        \n",
    "        train_losses = []\n",
    "        valid_losses = []\n",
    "        \n",
    "        if valid_loss < best_loss:\n",
    "            best_loss = valid_loss\n",
    "            patience = 0\n",
    "            torch.save(model.state_dict(), save_file_name)\n",
    "            print('Saving Model')\n",
    "        else:\n",
    "            patience += 1\n",
    "            print('Patience for ', patience)\n",
    "        if patience == 10:\n",
    "            break\n",
    "\n",
    "    model.load_state_dict(torch.load(save_file_name))\n",
    "\n",
    "    return  model, avg_train_losses, avg_valid_losses"
   ]
  },
  {
   "cell_type": "code",
   "execution_count": 20,
   "id": "554fa50e",
   "metadata": {
    "ExecuteTime": {
     "end_time": "2021-06-07T07:31:02.379988Z",
     "start_time": "2021-06-07T06:39:19.136234Z"
    },
    "scrolled": true
   },
   "outputs": [
    {
     "name": "stdout",
     "output_type": "stream",
     "text": [
      "[  1/300] train_loss: 1.00541 valid_loss: 1.01342\n",
      "Saving Model\n",
      "[  2/300] train_loss: 1.00467 valid_loss: 1.00201\n",
      "Saving Model\n",
      "[  3/300] train_loss: 1.00434 valid_loss: 1.00075\n",
      "Saving Model\n",
      "[  4/300] train_loss: 1.00401 valid_loss: 1.00081\n",
      "Patience for  1\n",
      "[  5/300] train_loss: 1.00399 valid_loss: 1.00119\n",
      "Patience for  2\n",
      "[  6/300] train_loss: 1.00417 valid_loss: 1.00364\n",
      "Patience for  3\n",
      "[  7/300] train_loss: 1.00401 valid_loss: 1.00889\n",
      "Patience for  4\n",
      "[  8/300] train_loss: 1.00427 valid_loss: 1.01300\n",
      "Patience for  5\n",
      "[  9/300] train_loss: 1.00409 valid_loss: 1.01191\n",
      "Patience for  6\n",
      "[ 10/300] train_loss: 1.00449 valid_loss: 1.01787\n",
      "Patience for  7\n",
      "[ 11/300] train_loss: 1.00412 valid_loss: 1.03248\n",
      "Patience for  8\n",
      "[ 12/300] train_loss: 1.00418 valid_loss: 1.03052\n",
      "Patience for  9\n",
      "[ 13/300] train_loss: 1.00401 valid_loss: 1.04905\n",
      "Patience for  10\n"
     ]
    }
   ],
   "source": [
    "model, train_loss, valid_loss = fit(model, batch_size, n_epochs, save_file_name)"
   ]
  },
  {
   "cell_type": "code",
   "execution_count": 20,
   "id": "a294ad1e",
   "metadata": {
    "ExecuteTime": {
     "end_time": "2022-04-05T03:22:18.192012Z",
     "start_time": "2022-04-05T03:22:18.177083Z"
    }
   },
   "outputs": [],
   "source": [
    "def evaluate_model(model, test_loader):\n",
    "    test_loss = 0.0\n",
    "    y_test = []\n",
    "    y_hat = []\n",
    "    model.eval()\n",
    "    for data,target in test_loader:\n",
    "        if model_type != 'CNN':\n",
    "            data, target = data.view(-1, 100, 6).cuda(), target.cuda()\n",
    "        else:\n",
    "            data, target = data.cuda(), target.cuda()   \n",
    "        output = model(data.cuda())\n",
    "        loss = criterion(output.squeeze(), target.squeeze())\n",
    "        test_loss += loss.item()\n",
    "        y_test += list(target.squeeze().detach().cpu().numpy())\n",
    "        y_hat += list(output.squeeze().detach().cpu().numpy())\n",
    "        \n",
    "    return test_loss/len(test_loader), y_test, y_hat"
   ]
  },
  {
   "cell_type": "code",
   "execution_count": 43,
   "id": "cecf8672",
   "metadata": {
    "ExecuteTime": {
     "end_time": "2022-04-05T06:41:38.205904Z",
     "start_time": "2022-04-05T06:41:38.191113Z"
    }
   },
   "outputs": [
    {
     "data": {
      "text/plain": [
       "<All keys matched successfully>"
      ]
     },
     "execution_count": 43,
     "metadata": {},
     "output_type": "execute_result"
    }
   ],
   "source": [
    "model.load_state_dict(torch.load(save_file_name))"
   ]
  },
  {
   "cell_type": "code",
   "execution_count": 44,
   "id": "4268e72d",
   "metadata": {
    "ExecuteTime": {
     "end_time": "2022-04-05T07:27:39.743754Z",
     "start_time": "2022-04-05T06:41:42.218091Z"
    }
   },
   "outputs": [],
   "source": [
    "test_loss, y_target, y_hat = evaluate_model(model, test_loader)"
   ]
  },
  {
   "cell_type": "code",
   "execution_count": 23,
   "id": "e22dcc05",
   "metadata": {
    "ExecuteTime": {
     "end_time": "2021-06-07T07:59:49.537337Z",
     "start_time": "2021-06-07T07:59:49.422805Z"
    }
   },
   "outputs": [
    {
     "data": {
      "text/plain": [
       "([-0.72353786, -0.72353786, -0.72353786, -0.72353786, -0.72353786],\n",
       " [-0.016381964, -0.016881041, -0.017291809, -0.025133757, -0.034871675])"
      ]
     },
     "execution_count": 23,
     "metadata": {},
     "output_type": "execute_result"
    }
   ],
   "source": [
    "y_target[:5], y_hat[:5]"
   ]
  },
  {
   "cell_type": "code",
   "execution_count": 45,
   "id": "b3226ad1",
   "metadata": {
    "ExecuteTime": {
     "end_time": "2022-04-05T13:01:56.842098Z",
     "start_time": "2022-04-05T13:01:36.366449Z"
    }
   },
   "outputs": [],
   "source": [
    "labels = test_tar_scaler.inverse_transform(np.asarray(y_target).reshape(-1, 1))\n",
    "predicted = test_tar_scaler.inverse_transform(np.asarray(y_hat).reshape(-1, 1))"
   ]
  },
  {
   "cell_type": "code",
   "execution_count": 26,
   "id": "2b0e0359",
   "metadata": {
    "ExecuteTime": {
     "end_time": "2021-06-07T08:21:14.486030Z",
     "start_time": "2021-06-07T08:21:14.454568Z"
    }
   },
   "outputs": [],
   "source": [
    "from sklearn.metrics import confusion_matrix\n",
    "from sklearn.metrics import accuracy_score, f1_score, recall_score, precision_score\n",
    "\n",
    "def getScores(forecast, target):\n",
    "    forecasted, transformed_target = list(), list()\n",
    "\n",
    "    for v in forecast:\n",
    "        if v < 10.5 and v >= 9.5:\n",
    "            forecasted.append(10.0)\n",
    "        elif v < 9.5 and v >= 8.5:\n",
    "            forecasted.append(9.0)\n",
    "        elif v < 8.5 and v >= 7.5:\n",
    "            forecasted.append(8.0)\n",
    "        elif v < 7.5 and v >= 6.5:\n",
    "            forecasted.append(7.0)\n",
    "        elif v < 6.5 and v >= 5.5:\n",
    "            forecasted.append(6.0)\n",
    "        elif v < 5.5 and v >= 4.5:\n",
    "            forecasted.append(5.0)\n",
    "        elif v < 4.5 and v >= 3.5:\n",
    "            forecasted.append(4.0)\n",
    "        elif v < 3.5 and v >= 2.5:\n",
    "            forecasted.append(2.0)\n",
    "        elif v < 2.5 and v >= 1.5:\n",
    "            forecasted.append(2.0)\n",
    "        elif v < 1.5 and v >= 0.5:\n",
    "            forecasted.append(0.0)\n",
    "        elif v < 0.5 and v >= -.5:\n",
    "            forecasted.append(0.0)\n",
    "                \n",
    "    for v in target:\n",
    "        if v < 10.5 and v >= 9.5:\n",
    "            transformed_target.append(10.0)\n",
    "        elif v < 9.5 and v >= 8.5:\n",
    "            transformed_target.append(9.0)\n",
    "        elif v < 8.5 and v >= 7.5:\n",
    "            transformed_target.append(8.0)\n",
    "        elif v < 7.5 and v >= 6.5:\n",
    "            transformed_target.append(7.0)\n",
    "        elif v < 6.5 and v >= 5.5:\n",
    "            transformed_target.append(6.0)\n",
    "        elif v < 5.5 and v >= 4.5:\n",
    "            transformed_target.append(5.0)\n",
    "        elif v < 4.5 and v >= 3.5:\n",
    "            transformed_target.append(4.0)\n",
    "        elif v < 3.5 and v >= 2.5:\n",
    "            transformed_target.append(2.0)\n",
    "        elif v < 2.5 and v >= 1.5:\n",
    "            transformed_target.append(2.0)\n",
    "        elif v < 1.5 and v >= 0.5:\n",
    "            transformed_target.append(0.0)\n",
    "        elif v < 0.5 and v >= -.5:\n",
    "            transformed_target.append(0.0)\n",
    "    \n",
    "    recall = recall_score(transformed_target, forecasted, average='micro')\n",
    "    precision = precision_score(transformed_target, forecasted, average='micro')\n",
    "    f1 = f1_score(transformed_target, forecasted, average='micro')\n",
    "    acc = accuracy_score(transformed_target, forecasted)\n",
    "    \n",
    "    return acc, precision, recall, f1"
   ]
  },
  {
   "cell_type": "code",
   "execution_count": null,
   "id": "0155a221",
   "metadata": {
    "ExecuteTime": {
     "start_time": "2021-06-07T08:21:14.825Z"
    }
   },
   "outputs": [],
   "source": [
    "acc, precision, recall, f1 = getScores(predicted, labels)"
   ]
  },
  {
   "cell_type": "code",
   "execution_count": 26,
   "id": "a19deed2",
   "metadata": {
    "ExecuteTime": {
     "end_time": "2021-06-03T08:21:00.572798Z",
     "start_time": "2021-06-03T08:18:43.890168Z"
    }
   },
   "outputs": [],
   "source": [
    "corrected_labels = []\n",
    "for i in range(len(labels)):\n",
    "    if labels[i] != 1.0:\n",
    "        corrected_labels.append(0.0)\n",
    "    else:\n",
    "        corrected_labels.append(1.0)"
   ]
  },
  {
   "cell_type": "code",
   "execution_count": 27,
   "id": "d9f3fe68",
   "metadata": {
    "ExecuteTime": {
     "end_time": "2021-06-03T08:22:26.870508Z",
     "start_time": "2021-06-03T08:21:00.606025Z"
    }
   },
   "outputs": [],
   "source": [
    "from collections import Counter\n",
    "cnt_y_hat = Counter(predicted)\n",
    "\n",
    "thres = np.array(list(cnt_y_hat.keys())).mean()\n",
    "corrected_predicted = []\n",
    "for i in range(len(predicted)):\n",
    "    if predicted[i] < thres:\n",
    "        corrected_predicted.append(0.0)\n",
    "    else:\n",
    "        corrected_predicted.append(1.0)"
   ]
  },
  {
   "cell_type": "code",
   "execution_count": 28,
   "id": "311db423",
   "metadata": {
    "ExecuteTime": {
     "end_time": "2021-06-03T08:26:43.823453Z",
     "start_time": "2021-06-03T08:22:27.004247Z"
    }
   },
   "outputs": [
    {
     "name": "stdout",
     "output_type": "stream",
     "text": [
      "[[26890989 31286611]\n",
      " [ 1242914   543986]]\n",
      "\n"
     ]
    },
    {
     "ename": "KeyboardInterrupt",
     "evalue": "",
     "output_type": "error",
     "traceback": [
      "\u001b[0;31m---------------------------------------------------------------------------\u001b[0m",
      "\u001b[0;31mKeyboardInterrupt\u001b[0m                         Traceback (most recent call last)",
      "\u001b[0;32m<ipython-input-28-71f04fed5bb0>\u001b[0m in \u001b[0;36m<module>\u001b[0;34m\u001b[0m\n\u001b[1;32m      3\u001b[0m \u001b[0macc\u001b[0m \u001b[0;34m=\u001b[0m \u001b[0maccuracy_score\u001b[0m\u001b[0;34m(\u001b[0m\u001b[0mcorrected_labels\u001b[0m\u001b[0;34m,\u001b[0m \u001b[0mcorrected_predicted\u001b[0m\u001b[0;34m)\u001b[0m\u001b[0;34m\u001b[0m\u001b[0;34m\u001b[0m\u001b[0m\n\u001b[1;32m      4\u001b[0m \u001b[0mf1\u001b[0m \u001b[0;34m=\u001b[0m \u001b[0mf1_score\u001b[0m\u001b[0;34m(\u001b[0m\u001b[0mcorrected_labels\u001b[0m\u001b[0;34m,\u001b[0m \u001b[0mcorrected_predicted\u001b[0m\u001b[0;34m)\u001b[0m\u001b[0;34m\u001b[0m\u001b[0;34m\u001b[0m\u001b[0m\n\u001b[0;32m----> 5\u001b[0;31m \u001b[0mrecall\u001b[0m \u001b[0;34m=\u001b[0m \u001b[0mrecall_score\u001b[0m\u001b[0;34m(\u001b[0m\u001b[0mcorrected_labels\u001b[0m\u001b[0;34m,\u001b[0m \u001b[0mcorrected_predicted\u001b[0m\u001b[0;34m)\u001b[0m\u001b[0;34m\u001b[0m\u001b[0;34m\u001b[0m\u001b[0m\n\u001b[0m\u001b[1;32m      6\u001b[0m \u001b[0mprecision\u001b[0m \u001b[0;34m=\u001b[0m \u001b[0mprecision_score\u001b[0m\u001b[0;34m(\u001b[0m\u001b[0mcorrected_labels\u001b[0m\u001b[0;34m,\u001b[0m \u001b[0mcorrected_predicted\u001b[0m\u001b[0;34m)\u001b[0m\u001b[0;34m\u001b[0m\u001b[0;34m\u001b[0m\u001b[0m\n\u001b[1;32m      7\u001b[0m \u001b[0;34m\u001b[0m\u001b[0m\n",
      "\u001b[0;32m/usr/local/lib/python3.6/dist-packages/sklearn/utils/validation.py\u001b[0m in \u001b[0;36minner_f\u001b[0;34m(*args, **kwargs)\u001b[0m\n\u001b[1;32m     61\u001b[0m             \u001b[0mextra_args\u001b[0m \u001b[0;34m=\u001b[0m \u001b[0mlen\u001b[0m\u001b[0;34m(\u001b[0m\u001b[0margs\u001b[0m\u001b[0;34m)\u001b[0m \u001b[0;34m-\u001b[0m \u001b[0mlen\u001b[0m\u001b[0;34m(\u001b[0m\u001b[0mall_args\u001b[0m\u001b[0;34m)\u001b[0m\u001b[0;34m\u001b[0m\u001b[0;34m\u001b[0m\u001b[0m\n\u001b[1;32m     62\u001b[0m             \u001b[0;32mif\u001b[0m \u001b[0mextra_args\u001b[0m \u001b[0;34m<=\u001b[0m \u001b[0;36m0\u001b[0m\u001b[0;34m:\u001b[0m\u001b[0;34m\u001b[0m\u001b[0;34m\u001b[0m\u001b[0m\n\u001b[0;32m---> 63\u001b[0;31m                 \u001b[0;32mreturn\u001b[0m \u001b[0mf\u001b[0m\u001b[0;34m(\u001b[0m\u001b[0;34m*\u001b[0m\u001b[0margs\u001b[0m\u001b[0;34m,\u001b[0m \u001b[0;34m**\u001b[0m\u001b[0mkwargs\u001b[0m\u001b[0;34m)\u001b[0m\u001b[0;34m\u001b[0m\u001b[0;34m\u001b[0m\u001b[0m\n\u001b[0m\u001b[1;32m     64\u001b[0m \u001b[0;34m\u001b[0m\u001b[0m\n\u001b[1;32m     65\u001b[0m             \u001b[0;31m# extra_args > 0\u001b[0m\u001b[0;34m\u001b[0m\u001b[0;34m\u001b[0m\u001b[0;34m\u001b[0m\u001b[0m\n",
      "\u001b[0;32m/usr/local/lib/python3.6/dist-packages/sklearn/metrics/_classification.py\u001b[0m in \u001b[0;36mrecall_score\u001b[0;34m(y_true, y_pred, labels, pos_label, average, sample_weight, zero_division)\u001b[0m\n\u001b[1;32m   1778\u001b[0m                                                  \u001b[0mwarn_for\u001b[0m\u001b[0;34m=\u001b[0m\u001b[0;34m(\u001b[0m\u001b[0;34m'recall'\u001b[0m\u001b[0;34m,\u001b[0m\u001b[0;34m)\u001b[0m\u001b[0;34m,\u001b[0m\u001b[0;34m\u001b[0m\u001b[0;34m\u001b[0m\u001b[0m\n\u001b[1;32m   1779\u001b[0m                                                  \u001b[0msample_weight\u001b[0m\u001b[0;34m=\u001b[0m\u001b[0msample_weight\u001b[0m\u001b[0;34m,\u001b[0m\u001b[0;34m\u001b[0m\u001b[0;34m\u001b[0m\u001b[0m\n\u001b[0;32m-> 1780\u001b[0;31m                                                  zero_division=zero_division)\n\u001b[0m\u001b[1;32m   1781\u001b[0m     \u001b[0;32mreturn\u001b[0m \u001b[0mr\u001b[0m\u001b[0;34m\u001b[0m\u001b[0;34m\u001b[0m\u001b[0m\n\u001b[1;32m   1782\u001b[0m \u001b[0;34m\u001b[0m\u001b[0m\n",
      "\u001b[0;32m/usr/local/lib/python3.6/dist-packages/sklearn/utils/validation.py\u001b[0m in \u001b[0;36minner_f\u001b[0;34m(*args, **kwargs)\u001b[0m\n\u001b[1;32m     61\u001b[0m             \u001b[0mextra_args\u001b[0m \u001b[0;34m=\u001b[0m \u001b[0mlen\u001b[0m\u001b[0;34m(\u001b[0m\u001b[0margs\u001b[0m\u001b[0;34m)\u001b[0m \u001b[0;34m-\u001b[0m \u001b[0mlen\u001b[0m\u001b[0;34m(\u001b[0m\u001b[0mall_args\u001b[0m\u001b[0;34m)\u001b[0m\u001b[0;34m\u001b[0m\u001b[0;34m\u001b[0m\u001b[0m\n\u001b[1;32m     62\u001b[0m             \u001b[0;32mif\u001b[0m \u001b[0mextra_args\u001b[0m \u001b[0;34m<=\u001b[0m \u001b[0;36m0\u001b[0m\u001b[0;34m:\u001b[0m\u001b[0;34m\u001b[0m\u001b[0;34m\u001b[0m\u001b[0m\n\u001b[0;32m---> 63\u001b[0;31m                 \u001b[0;32mreturn\u001b[0m \u001b[0mf\u001b[0m\u001b[0;34m(\u001b[0m\u001b[0;34m*\u001b[0m\u001b[0margs\u001b[0m\u001b[0;34m,\u001b[0m \u001b[0;34m**\u001b[0m\u001b[0mkwargs\u001b[0m\u001b[0;34m)\u001b[0m\u001b[0;34m\u001b[0m\u001b[0;34m\u001b[0m\u001b[0m\n\u001b[0m\u001b[1;32m     64\u001b[0m \u001b[0;34m\u001b[0m\u001b[0m\n\u001b[1;32m     65\u001b[0m             \u001b[0;31m# extra_args > 0\u001b[0m\u001b[0;34m\u001b[0m\u001b[0;34m\u001b[0m\u001b[0;34m\u001b[0m\u001b[0m\n",
      "\u001b[0;32m/usr/local/lib/python3.6/dist-packages/sklearn/metrics/_classification.py\u001b[0m in \u001b[0;36mprecision_recall_fscore_support\u001b[0;34m(y_true, y_pred, beta, labels, pos_label, average, warn_for, sample_weight, zero_division)\u001b[0m\n\u001b[1;32m   1463\u001b[0m         \u001b[0;32mraise\u001b[0m \u001b[0mValueError\u001b[0m\u001b[0;34m(\u001b[0m\u001b[0;34m\"beta should be >=0 in the F-beta score\"\u001b[0m\u001b[0;34m)\u001b[0m\u001b[0;34m\u001b[0m\u001b[0;34m\u001b[0m\u001b[0m\n\u001b[1;32m   1464\u001b[0m     labels = _check_set_wise_labels(y_true, y_pred, average, labels,\n\u001b[0;32m-> 1465\u001b[0;31m                                     pos_label)\n\u001b[0m\u001b[1;32m   1466\u001b[0m \u001b[0;34m\u001b[0m\u001b[0m\n\u001b[1;32m   1467\u001b[0m     \u001b[0;31m# Calculate tp_sum, pred_sum, true_sum ###\u001b[0m\u001b[0;34m\u001b[0m\u001b[0;34m\u001b[0m\u001b[0;34m\u001b[0m\u001b[0m\n",
      "\u001b[0;32m/usr/local/lib/python3.6/dist-packages/sklearn/metrics/_classification.py\u001b[0m in \u001b[0;36m_check_set_wise_labels\u001b[0;34m(y_true, y_pred, average, labels, pos_label)\u001b[0m\n\u001b[1;32m   1275\u001b[0m                          str(average_options))\n\u001b[1;32m   1276\u001b[0m \u001b[0;34m\u001b[0m\u001b[0m\n\u001b[0;32m-> 1277\u001b[0;31m     \u001b[0my_type\u001b[0m\u001b[0;34m,\u001b[0m \u001b[0my_true\u001b[0m\u001b[0;34m,\u001b[0m \u001b[0my_pred\u001b[0m \u001b[0;34m=\u001b[0m \u001b[0m_check_targets\u001b[0m\u001b[0;34m(\u001b[0m\u001b[0my_true\u001b[0m\u001b[0;34m,\u001b[0m \u001b[0my_pred\u001b[0m\u001b[0;34m)\u001b[0m\u001b[0;34m\u001b[0m\u001b[0;34m\u001b[0m\u001b[0m\n\u001b[0m\u001b[1;32m   1278\u001b[0m     \u001b[0;31m# Convert to Python primitive type to avoid NumPy type / Python str\u001b[0m\u001b[0;34m\u001b[0m\u001b[0;34m\u001b[0m\u001b[0;34m\u001b[0m\u001b[0m\n\u001b[1;32m   1279\u001b[0m     \u001b[0;31m# comparison. See https://github.com/numpy/numpy/issues/6784\u001b[0m\u001b[0;34m\u001b[0m\u001b[0;34m\u001b[0m\u001b[0;34m\u001b[0m\u001b[0m\n",
      "\u001b[0;32m/usr/local/lib/python3.6/dist-packages/sklearn/metrics/_classification.py\u001b[0m in \u001b[0;36m_check_targets\u001b[0;34m(y_true, y_pred)\u001b[0m\n\u001b[1;32m    105\u001b[0m         \u001b[0;32mif\u001b[0m \u001b[0my_type\u001b[0m \u001b[0;34m==\u001b[0m \u001b[0;34m\"binary\"\u001b[0m\u001b[0;34m:\u001b[0m\u001b[0;34m\u001b[0m\u001b[0;34m\u001b[0m\u001b[0m\n\u001b[1;32m    106\u001b[0m             \u001b[0;32mtry\u001b[0m\u001b[0;34m:\u001b[0m\u001b[0;34m\u001b[0m\u001b[0;34m\u001b[0m\u001b[0m\n\u001b[0;32m--> 107\u001b[0;31m                 \u001b[0munique_values\u001b[0m \u001b[0;34m=\u001b[0m \u001b[0mnp\u001b[0m\u001b[0;34m.\u001b[0m\u001b[0munion1d\u001b[0m\u001b[0;34m(\u001b[0m\u001b[0my_true\u001b[0m\u001b[0;34m,\u001b[0m \u001b[0my_pred\u001b[0m\u001b[0;34m)\u001b[0m\u001b[0;34m\u001b[0m\u001b[0;34m\u001b[0m\u001b[0m\n\u001b[0m\u001b[1;32m    108\u001b[0m             \u001b[0;32mexcept\u001b[0m \u001b[0mTypeError\u001b[0m \u001b[0;32mas\u001b[0m \u001b[0me\u001b[0m\u001b[0;34m:\u001b[0m\u001b[0;34m\u001b[0m\u001b[0;34m\u001b[0m\u001b[0m\n\u001b[1;32m    109\u001b[0m                 \u001b[0;31m# We expect y_true and y_pred to be of the same data type.\u001b[0m\u001b[0;34m\u001b[0m\u001b[0;34m\u001b[0m\u001b[0;34m\u001b[0m\u001b[0m\n",
      "\u001b[0;32m<__array_function__ internals>\u001b[0m in \u001b[0;36munion1d\u001b[0;34m(*args, **kwargs)\u001b[0m\n",
      "\u001b[0;32m/usr/local/lib/python3.6/dist-packages/numpy/lib/arraysetops.py\u001b[0m in \u001b[0;36munion1d\u001b[0;34m(ar1, ar2)\u001b[0m\n\u001b[1;32m    736\u001b[0m     \u001b[0marray\u001b[0m\u001b[0;34m(\u001b[0m\u001b[0;34m[\u001b[0m\u001b[0;36m1\u001b[0m\u001b[0;34m,\u001b[0m \u001b[0;36m2\u001b[0m\u001b[0;34m,\u001b[0m \u001b[0;36m3\u001b[0m\u001b[0;34m,\u001b[0m \u001b[0;36m4\u001b[0m\u001b[0;34m,\u001b[0m \u001b[0;36m6\u001b[0m\u001b[0;34m]\u001b[0m\u001b[0;34m)\u001b[0m\u001b[0;34m\u001b[0m\u001b[0;34m\u001b[0m\u001b[0m\n\u001b[1;32m    737\u001b[0m     \"\"\"\n\u001b[0;32m--> 738\u001b[0;31m     \u001b[0;32mreturn\u001b[0m \u001b[0munique\u001b[0m\u001b[0;34m(\u001b[0m\u001b[0mnp\u001b[0m\u001b[0;34m.\u001b[0m\u001b[0mconcatenate\u001b[0m\u001b[0;34m(\u001b[0m\u001b[0;34m(\u001b[0m\u001b[0mar1\u001b[0m\u001b[0;34m,\u001b[0m \u001b[0mar2\u001b[0m\u001b[0;34m)\u001b[0m\u001b[0;34m,\u001b[0m \u001b[0maxis\u001b[0m\u001b[0;34m=\u001b[0m\u001b[0;32mNone\u001b[0m\u001b[0;34m)\u001b[0m\u001b[0;34m)\u001b[0m\u001b[0;34m\u001b[0m\u001b[0;34m\u001b[0m\u001b[0m\n\u001b[0m\u001b[1;32m    739\u001b[0m \u001b[0;34m\u001b[0m\u001b[0m\n\u001b[1;32m    740\u001b[0m \u001b[0;34m\u001b[0m\u001b[0m\n",
      "\u001b[0;32m<__array_function__ internals>\u001b[0m in \u001b[0;36munique\u001b[0;34m(*args, **kwargs)\u001b[0m\n",
      "\u001b[0;32m/usr/local/lib/python3.6/dist-packages/numpy/lib/arraysetops.py\u001b[0m in \u001b[0;36munique\u001b[0;34m(ar, return_index, return_inverse, return_counts, axis)\u001b[0m\n\u001b[1;32m    261\u001b[0m     \u001b[0mar\u001b[0m \u001b[0;34m=\u001b[0m \u001b[0mnp\u001b[0m\u001b[0;34m.\u001b[0m\u001b[0masanyarray\u001b[0m\u001b[0;34m(\u001b[0m\u001b[0mar\u001b[0m\u001b[0;34m)\u001b[0m\u001b[0;34m\u001b[0m\u001b[0;34m\u001b[0m\u001b[0m\n\u001b[1;32m    262\u001b[0m     \u001b[0;32mif\u001b[0m \u001b[0maxis\u001b[0m \u001b[0;32mis\u001b[0m \u001b[0;32mNone\u001b[0m\u001b[0;34m:\u001b[0m\u001b[0;34m\u001b[0m\u001b[0;34m\u001b[0m\u001b[0m\n\u001b[0;32m--> 263\u001b[0;31m         \u001b[0mret\u001b[0m \u001b[0;34m=\u001b[0m \u001b[0m_unique1d\u001b[0m\u001b[0;34m(\u001b[0m\u001b[0mar\u001b[0m\u001b[0;34m,\u001b[0m \u001b[0mreturn_index\u001b[0m\u001b[0;34m,\u001b[0m \u001b[0mreturn_inverse\u001b[0m\u001b[0;34m,\u001b[0m \u001b[0mreturn_counts\u001b[0m\u001b[0;34m)\u001b[0m\u001b[0;34m\u001b[0m\u001b[0;34m\u001b[0m\u001b[0m\n\u001b[0m\u001b[1;32m    264\u001b[0m         \u001b[0;32mreturn\u001b[0m \u001b[0m_unpack_tuple\u001b[0m\u001b[0;34m(\u001b[0m\u001b[0mret\u001b[0m\u001b[0;34m)\u001b[0m\u001b[0;34m\u001b[0m\u001b[0;34m\u001b[0m\u001b[0m\n\u001b[1;32m    265\u001b[0m \u001b[0;34m\u001b[0m\u001b[0m\n",
      "\u001b[0;32m/usr/local/lib/python3.6/dist-packages/numpy/lib/arraysetops.py\u001b[0m in \u001b[0;36m_unique1d\u001b[0;34m(ar, return_index, return_inverse, return_counts)\u001b[0m\n\u001b[1;32m    309\u001b[0m         \u001b[0maux\u001b[0m \u001b[0;34m=\u001b[0m \u001b[0mar\u001b[0m\u001b[0;34m[\u001b[0m\u001b[0mperm\u001b[0m\u001b[0;34m]\u001b[0m\u001b[0;34m\u001b[0m\u001b[0;34m\u001b[0m\u001b[0m\n\u001b[1;32m    310\u001b[0m     \u001b[0;32melse\u001b[0m\u001b[0;34m:\u001b[0m\u001b[0;34m\u001b[0m\u001b[0;34m\u001b[0m\u001b[0m\n\u001b[0;32m--> 311\u001b[0;31m         \u001b[0mar\u001b[0m\u001b[0;34m.\u001b[0m\u001b[0msort\u001b[0m\u001b[0;34m(\u001b[0m\u001b[0;34m)\u001b[0m\u001b[0;34m\u001b[0m\u001b[0;34m\u001b[0m\u001b[0m\n\u001b[0m\u001b[1;32m    312\u001b[0m         \u001b[0maux\u001b[0m \u001b[0;34m=\u001b[0m \u001b[0mar\u001b[0m\u001b[0;34m\u001b[0m\u001b[0;34m\u001b[0m\u001b[0m\n\u001b[1;32m    313\u001b[0m     \u001b[0mmask\u001b[0m \u001b[0;34m=\u001b[0m \u001b[0mnp\u001b[0m\u001b[0;34m.\u001b[0m\u001b[0mempty\u001b[0m\u001b[0;34m(\u001b[0m\u001b[0maux\u001b[0m\u001b[0;34m.\u001b[0m\u001b[0mshape\u001b[0m\u001b[0;34m,\u001b[0m \u001b[0mdtype\u001b[0m\u001b[0;34m=\u001b[0m\u001b[0mnp\u001b[0m\u001b[0;34m.\u001b[0m\u001b[0mbool_\u001b[0m\u001b[0;34m)\u001b[0m\u001b[0;34m\u001b[0m\u001b[0;34m\u001b[0m\u001b[0m\n",
      "\u001b[0;31mKeyboardInterrupt\u001b[0m: "
     ]
    }
   ],
   "source": [
    "print(confusion_matrix(corrected_labels, corrected_predicted))\n",
    "print()\n",
    "acc = accuracy_score(corrected_labels, corrected_predicted)\n",
    "f1 = f1_score(corrected_labels, corrected_predicted)\n",
    "recall = recall_score(corrected_labels, corrected_predicted)\n",
    "precision = precision_score(corrected_labels, corrected_predicted)\n",
    "\n",
    "print('recall score is ', recall)\n",
    "print('precision score is ', precision)\n",
    "print('f1 score is ', f1)\n",
    "print('accuracy score is ', acc)"
   ]
  },
  {
   "cell_type": "code",
   "execution_count": null,
   "id": "e519237f",
   "metadata": {
    "ExecuteTime": {
     "end_time": "2021-06-03T08:26:43.827592Z",
     "start_time": "2021-06-03T08:18:31.755Z"
    }
   },
   "outputs": [],
   "source": [
    "result = pd.DataFrame([acc, precision, recall, f1]).T\n",
    "result.columns = ['Accuracy', 'Precision', 'Recall', 'F1']\n",
    "result.to_csv(save_path + 'SingleLSTMDLR.csv')"
   ]
  },
  {
   "cell_type": "code",
   "execution_count": 46,
   "id": "0763e578",
   "metadata": {
    "ExecuteTime": {
     "end_time": "2022-04-05T13:07:52.759971Z",
     "start_time": "2022-04-05T13:07:33.500800Z"
    }
   },
   "outputs": [],
   "source": [
    "labels_100, predicted_100 = list(), list()\n",
    "for i in range(len(labels)):\n",
    "    if i % 100 == 0:\n",
    "        labels_100.append(labels[i])\n",
    "for i in range(len(predicted)):\n",
    "    if i % 100 == 0:\n",
    "        predicted_100.append(predicted[i])"
   ]
  },
  {
   "cell_type": "code",
   "execution_count": 47,
   "id": "76e4eefd",
   "metadata": {
    "ExecuteTime": {
     "end_time": "2022-04-05T13:08:12.756710Z",
     "start_time": "2022-04-05T13:08:11.491374Z"
    }
   },
   "outputs": [
    {
     "data": {
      "image/png": "[encoded data removed]",
      "text/plain": [
       "<Figure size 720x360 with 1 Axes>"
      ]
     },
     "metadata": {
      "needs_background": "light"
     },
     "output_type": "display_data"
    },
    {
     "data": {
      "text/plain": [
       "<Figure size 432x288 with 0 Axes>"
      ]
     },
     "metadata": {},
     "output_type": "display_data"
    }
   ],
   "source": [
    "from matplotlib import pyplot as plt\n",
    "\n",
    "plt.figure(figsize=(10, 5))\n",
    "ax = plt.subplot(111)\n",
    "ax.spines['right'].set_visible(False)\n",
    "ax.spines['top'].set_visible(False)\n",
    "ax.xaxis.set_ticks_position('bottom')\n",
    "ax.yaxis.set_ticks_position('left')\n",
    "ax.margins(x=0.01, y=0.01)\n",
    "plt.plot(labels_100[3000:8100], label='target', color='#E31A1C', linewidth=4)\n",
    "plt.plot(predicted_100[3000:8100], label='predicted', color='#009ADE', linestyle='--', linewidth=4)\n",
    "plt.xticks([0, 5100], fontsize=20)\n",
    "plt.yticks([3, 10], fontsize=20)\n",
    "plt.xlabel('Time Step', fontsize=30)\n",
    "plt.ylabel('Value', fontsize=30)\n",
    "plt.show()\n",
    "plt.savefig(save_path + f'{model_type}DLR.png')"
   ]
  },
  {
   "cell_type": "code",
   "execution_count": null,
   "id": "ce282687",
   "metadata": {},
   "outputs": [],
   "source": []
  }
 ],
 "metadata": {
  "kernelspec": {
   "display_name": "inkyugn_tft",
   "language": "python",
   "name": "inkyung_tft"
  },
  "language_info": {
   "codemirror_mode": {
    "name": "ipython",
    "version": 3
   },
   "file_extension": ".py",
   "mimetype": "text/x-python",
   "name": "python",
   "nbconvert_exporter": "python",
   "pygments_lexer": "ipython3",
   "version": "3.7.3"
  },
  "latex_envs": {
   "LaTeX_envs_menu_present": true,
   "autoclose": false,
   "autocomplete": true,
   "bibliofile": "biblio.bib",
   "cite_by": "apalike",
   "current_citInitial": 1,
   "eqLabelWithNumbers": true,
   "eqNumInitial": 1,
   "hotkeys": {
    "equation": "Ctrl-E",
    "itemize": "Ctrl-I"
   },
   "labels_anchors": false,
   "latex_user_defs": false,
   "report_style_numbering": false,
   "user_envs_cfg": false
  },
  "toc": {
   "base_numbering": 1,
   "nav_menu": {},
   "number_sections": false,
   "sideBar": true,
   "skip_h1_title": false,
   "title_cell": "Table of Contents",
   "title_sidebar": "Contents",
   "toc_cell": false,
   "toc_position": {},
   "toc_section_display": true,
   "toc_window_display": false
  },
  "varInspector": {
   "cols": {
    "lenName": 16,
    "lenType": 16,
    "lenVar": 40
   },
   "kernels_config": {
    "python": {
     "delete_cmd_postfix": "",
     "delete_cmd_prefix": "del ",
     "library": "var_list.py",
     "varRefreshCmd": "print(var_dic_list())"
    },
    "r": {
     "delete_cmd_postfix": ") ",
     "delete_cmd_prefix": "rm(",
     "library": "var_list.r",
     "varRefreshCmd": "cat(var_dic_list()) "
    }
   },
   "types_to_exclude": [
    "module",
    "function",
    "builtin_function_or_method",
    "instance",
    "_Feature"
   ],
   "window_display": false
  }
 },
 "nbformat": 4,
 "nbformat_minor": 5
}
